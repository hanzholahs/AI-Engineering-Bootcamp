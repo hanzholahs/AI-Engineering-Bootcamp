{
 "cells": [
  {
   "cell_type": "markdown",
   "id": "b2bea32f-f146-4ec5-9c82-423c5ec39b88",
   "metadata": {},
   "source": [
    "# Pandas\n",
    "\n",
    "by Hanzholah Shobri, 23 April 2022\n",
    "\n",
    "This is a personal notebook I use to learn Pandas as one of the Scientific Computing libraries. See more at [this repository](https://github.com/hanzholahs/AI-Engineering-Bootcamp).\n",
    "\n",
    "To help me learn, I use these sites as my reference: [Pandas Documentation](https://pandas.pydata.org/docs/); [Article by Reka Horvath](https://realpython.com/pandas-python-explore-dataset/); and [Article by Mirko Stojiljković](https://realpython.com/pandas-dataframe/). Here, I also take some notes by copying texts from the website with and without summarising/paraphrasing."
   ]
  },
  {
   "cell_type": "code",
   "execution_count": 2,
   "id": "2ebe3c31-49f6-4a66-87db-ed81629d78ae",
   "metadata": {},
   "outputs": [],
   "source": [
    "import numpy as np\n",
    "import pandas as pd"
   ]
  },
  {
   "cell_type": "markdown",
   "id": "3f769965-22d0-4078-ba66-235bfc976aad",
   "metadata": {},
   "source": [
    "## Pandas Overview\n",
    "\n",
    "`pandas` provides fast, flexible, and expressive data structures designed to work with “relational” or “labeled” data.\n",
    "\n",
    "The two primary data structures of pandas, Series (1-dimensional) and DataFrame (2-dimensional), handle the vast majority of typical use cases in finance, statistics, social science, and many areas of engineering. \n",
    "\n",
    "Here are just a few of the things that pandas does well:\n",
    "\n",
    "* handling of missing data (represented as NaN)\n",
    "* size mutability (insertion and deletion of data from DataFrame and higher dimensional objects)\n",
    "* automatic and explicit data alignment\n",
    "* `group by` functionality to perform split-apply-combine operations on data sets\n",
    "* easy conversion in other Python and NumPy data structures\n",
    "* intellegent label-based slicing, indexing, and subsetting\n",
    "* reshaping, pivoting, merging and joining data\n",
    "* hierarchhical labeling of axes (possible to have multiple labels per tick)\n",
    "* I/O tools\n",
    "* time series-specific functionality"
   ]
  },
  {
   "cell_type": "markdown",
   "id": "8cb0e0fb-e729-473c-90ca-88b30279e360",
   "metadata": {
    "tags": []
   },
   "source": [
    "## Data Structure\n",
    "\n",
    "There are two data structures in Pandas:\n",
    "\n",
    "* **Series**: 1D labeled homogeneously-typed array\n",
    "* **DataFrame**: General 2D labeled, size-mutable tabular structure with potentially heterogeneously-typed column\n",
    "\n",
    "`pandas` data structures is flexible containers for lower dimensional data. For example, DataFrame is a container for Series, and Series is a container for scalars.\n",
    "\n",
    "All `pandas` data structures are value-mutable (the values they contain can be altered) but not always size-mutable."
   ]
  },
  {
   "cell_type": "markdown",
   "id": "04c4a9bd-960c-46be-b5c7-42a3c0810801",
   "metadata": {},
   "source": [
    "### Series - Creating a Series\n",
    "\n",
    "`Series` is a one-dimensional labeled array capable of holding any data type (integers, strings, floating point numbers, Python objects, etc.). The axis labels are collectively referred to as the index. "
   ]
  },
  {
   "cell_type": "code",
   "execution_count": 34,
   "id": "ee722b2c-fb51-419d-ad32-267f5105ea1b",
   "metadata": {},
   "outputs": [
    {
     "data": {
      "text/plain": [
       "Jo    23500\n",
       "Ma    42400\n",
       "Bi    84100\n",
       "Ke    43200\n",
       "La    92800\n",
       "Po    12500\n",
       "dtype: int64"
      ]
     },
     "execution_count": 34,
     "metadata": {},
     "output_type": "execute_result"
    }
   ],
   "source": [
    "# Create series from a list\n",
    "salary = pd.Series([23500, 42400, 84100, 43200, 92800, 12500], \n",
    "                   index = ['Jo', 'Ma', 'Bi', 'Ke', 'La', 'Po'])\n",
    "salary"
   ]
  },
  {
   "cell_type": "code",
   "execution_count": 12,
   "id": "36870842-40d0-4590-8fae-8fe9cb856557",
   "metadata": {},
   "outputs": [
    {
     "data": {
      "text/plain": [
       "0    4\n",
       "1    1\n",
       "2    8\n",
       "3    2\n",
       "4    6\n",
       "dtype: int32"
      ]
     },
     "execution_count": 12,
     "metadata": {},
     "output_type": "execute_result"
    }
   ],
   "source": [
    "# Create series from ndarray\n",
    "pd.Series(np.random.randint(1, 10, 5))"
   ]
  },
  {
   "cell_type": "code",
   "execution_count": 15,
   "id": "24f94fe0-00c5-4cf2-8ce4-bc9a3d416e58",
   "metadata": {},
   "outputs": [
    {
     "data": {
      "text/plain": [
       "a    8\n",
       "b    3\n",
       "c    5\n",
       "d    1\n",
       "e    3\n",
       "dtype: int32"
      ]
     },
     "execution_count": 15,
     "metadata": {},
     "output_type": "execute_result"
    }
   ],
   "source": [
    "# Create series from ndarray with index\n",
    "pd.Series(np.random.randint(1, 10, 5), index = ['a', 'b', 'c', 'd', 'e'])"
   ]
  },
  {
   "cell_type": "code",
   "execution_count": 17,
   "id": "6f1fa4ed-5a9e-4aa6-83a5-a9c50ef2bb0f",
   "metadata": {},
   "outputs": [
    {
     "data": {
      "text/plain": [
       "A    5\n",
       "B    7\n",
       "C    3\n",
       "dtype: int64"
      ]
     },
     "execution_count": 17,
     "metadata": {},
     "output_type": "execute_result"
    }
   ],
   "source": [
    "# Create series from dictionary\n",
    "d = {'A': 5, 'B':7, 'C':3}\n",
    "pd.Series(d)"
   ]
  },
  {
   "cell_type": "code",
   "execution_count": 19,
   "id": "6987af32-47f3-453a-a603-4b91dcd4263d",
   "metadata": {},
   "outputs": [
    {
     "data": {
      "text/plain": [
       "s    5.25\n",
       "t    5.25\n",
       "u    5.25\n",
       "v    5.25\n",
       "dtype: float64"
      ]
     },
     "execution_count": 19,
     "metadata": {},
     "output_type": "execute_result"
    }
   ],
   "source": [
    "# Create series from a scalar value\n",
    "pd.Series(5.25, index = ['s', 't', 'u', 'v'])"
   ]
  },
  {
   "cell_type": "markdown",
   "id": "21e485d8-9902-4f7c-b70d-a0cae2f99b96",
   "metadata": {},
   "source": [
    "### Series - Comparing with `ndarray` and `dict`\n",
    "`Series` acts very similarly to a `ndarray`, and is a valid argument to most NumPy functions.\n",
    "\n",
    "A `series` can be indexed with it labels like a dictionary."
   ]
  },
  {
   "cell_type": "code",
   "execution_count": 24,
   "id": "281b59d0-21c3-41dc-8008-286303f03c72",
   "metadata": {},
   "outputs": [
    {
     "data": {
      "text/plain": [
       "23500"
      ]
     },
     "execution_count": 24,
     "metadata": {},
     "output_type": "execute_result"
    }
   ],
   "source": [
    "# Slice the first element\n",
    "salary[0]"
   ]
  },
  {
   "cell_type": "code",
   "execution_count": 25,
   "id": "ba0e3528-7b52-49d3-943d-25a48e24621e",
   "metadata": {},
   "outputs": [
    {
     "data": {
      "text/plain": [
       "4    92800\n",
       "5    12500\n",
       "dtype: int64"
      ]
     },
     "execution_count": 25,
     "metadata": {},
     "output_type": "execute_result"
    }
   ],
   "source": [
    "# Slice the last two elements\n",
    "salary[-2:]"
   ]
  },
  {
   "cell_type": "code",
   "execution_count": 26,
   "id": "936d143c-09e3-4845-9e9b-ee1fb4cf9012",
   "metadata": {},
   "outputs": [
    {
     "data": {
      "text/plain": [
       "42800.0"
      ]
     },
     "execution_count": 26,
     "metadata": {},
     "output_type": "execute_result"
    }
   ],
   "source": [
    "# Calculate median\n",
    "salary.median()"
   ]
  },
  {
   "cell_type": "code",
   "execution_count": 28,
   "id": "65d6d0f0-affa-4b4d-9b45-e8f85c8eaa8b",
   "metadata": {},
   "outputs": [
    {
     "data": {
      "text/plain": [
       "0    23500\n",
       "5    12500\n",
       "dtype: int64"
      ]
     },
     "execution_count": 28,
     "metadata": {},
     "output_type": "execute_result"
    }
   ],
   "source": [
    "# find low salary\n",
    "salary[salary < 25000]"
   ]
  },
  {
   "cell_type": "code",
   "execution_count": 36,
   "id": "732297f5-d4cb-4b4d-a6b3-23a6dc1c248e",
   "metadata": {},
   "outputs": [
    {
     "data": {
      "text/plain": [
       "0      2.718282\n",
       "1      7.389056\n",
       "2     20.085537\n",
       "3     54.598150\n",
       "4    148.413159\n",
       "dtype: float64"
      ]
     },
     "execution_count": 36,
     "metadata": {},
     "output_type": "execute_result"
    }
   ],
   "source": [
    "# mathematical function on a series\n",
    "np.exp(pd.Series([1,2,3,4,5]))"
   ]
  },
  {
   "cell_type": "code",
   "execution_count": 37,
   "id": "4ba11492-0f5c-43fc-8699-e88bbfbcecc8",
   "metadata": {},
   "outputs": [
    {
     "data": {
      "text/plain": [
       "Jo     257000\n",
       "Ma     483800\n",
       "Bi     984200\n",
       "Ke     493400\n",
       "La    1088600\n",
       "Po     125000\n",
       "dtype: int64"
      ]
     },
     "execution_count": 37,
     "metadata": {},
     "output_type": "execute_result"
    }
   ],
   "source": [
    "# vector operation on a series\n",
    "salary * 12 - 25000"
   ]
  },
  {
   "cell_type": "code",
   "execution_count": 32,
   "id": "d5b9800e-e4b6-46ee-a5e2-8eb149cb4c7c",
   "metadata": {},
   "outputs": [
    {
     "data": {
      "text/plain": [
       "dtype('int64')"
      ]
     },
     "execution_count": 32,
     "metadata": {},
     "output_type": "execute_result"
    }
   ],
   "source": [
    "# data type of a series\n",
    "salary.dtype"
   ]
  },
  {
   "cell_type": "code",
   "execution_count": 35,
   "id": "6eb43f81-a203-4774-88e4-242882c04128",
   "metadata": {},
   "outputs": [
    {
     "data": {
      "text/plain": [
       "12500"
      ]
     },
     "execution_count": 35,
     "metadata": {},
     "output_type": "execute_result"
    }
   ],
   "source": [
    "# Select data by index\n",
    "salary[\"Po\"]"
   ]
  },
  {
   "cell_type": "markdown",
   "id": "754d9814-3a20-49e8-ae76-7fadf7a47eea",
   "metadata": {},
   "source": [
    "### DataFrame - Creating DataFrames\n",
    "\n",
    "DataFrame is a 2-dimensional labeled data structure with columns of potentially different types. To create a DataFrame, it accepts many different kinds of input:\n",
    "\n",
    "* Dict of 1D ndarrays, lists, dicts, or Series\n",
    "* 2-D `numpy.ndarray`\n",
    "* Structured or record ndarray\n",
    "* A `Series`\n",
    "* Another `DataFrame`"
   ]
  },
  {
   "cell_type": "code",
   "execution_count": 45,
   "id": "4e2d1414-cd78-4ee6-b0ca-b4ec42a1f483",
   "metadata": {},
   "outputs": [
    {
     "data": {
      "text/html": [
       "<div>\n",
       "<style scoped>\n",
       "    .dataframe tbody tr th:only-of-type {\n",
       "        vertical-align: middle;\n",
       "    }\n",
       "\n",
       "    .dataframe tbody tr th {\n",
       "        vertical-align: top;\n",
       "    }\n",
       "\n",
       "    .dataframe thead th {\n",
       "        text-align: right;\n",
       "    }\n",
       "</style>\n",
       "<table border=\"1\" class=\"dataframe\">\n",
       "  <thead>\n",
       "    <tr style=\"text-align: right;\">\n",
       "      <th></th>\n",
       "      <th>A</th>\n",
       "      <th>B</th>\n",
       "    </tr>\n",
       "  </thead>\n",
       "  <tbody>\n",
       "    <tr>\n",
       "      <th>a</th>\n",
       "      <td>1.0</td>\n",
       "      <td>4.6</td>\n",
       "    </tr>\n",
       "    <tr>\n",
       "      <th>b</th>\n",
       "      <td>6.0</td>\n",
       "      <td>2.3</td>\n",
       "    </tr>\n",
       "    <tr>\n",
       "      <th>c</th>\n",
       "      <td>3.0</td>\n",
       "      <td>3.4</td>\n",
       "    </tr>\n",
       "    <tr>\n",
       "      <th>d</th>\n",
       "      <td>NaN</td>\n",
       "      <td>5.6</td>\n",
       "    </tr>\n",
       "    <tr>\n",
       "      <th>f</th>\n",
       "      <td>4.0</td>\n",
       "      <td>NaN</td>\n",
       "    </tr>\n",
       "    <tr>\n",
       "      <th>g</th>\n",
       "      <td>6.0</td>\n",
       "      <td>3.8</td>\n",
       "    </tr>\n",
       "    <tr>\n",
       "      <th>h</th>\n",
       "      <td>NaN</td>\n",
       "      <td>3.7</td>\n",
       "    </tr>\n",
       "  </tbody>\n",
       "</table>\n",
       "</div>"
      ],
      "text/plain": [
       "     A    B\n",
       "a  1.0  4.6\n",
       "b  6.0  2.3\n",
       "c  3.0  3.4\n",
       "d  NaN  5.6\n",
       "f  4.0  NaN\n",
       "g  6.0  3.8\n",
       "h  NaN  3.7"
      ]
     },
     "execution_count": 45,
     "metadata": {},
     "output_type": "execute_result"
    }
   ],
   "source": [
    "# Create a dataframe from a dictionary of series\n",
    "d = {\n",
    "    \"A\": pd.Series([1,6,3,4,6], index = ['a', 'b', 'c', 'f', 'g']),\n",
    "    \"B\": pd.Series([4.6, 2.3, 3.4, 5.6, 3.8, 3.7], index = ['a', 'b', 'c', 'd', 'g', 'h'])\n",
    "}\n",
    "pd.DataFrame(d)"
   ]
  },
  {
   "cell_type": "code",
   "execution_count": 57,
   "id": "f36d0d80-456c-4099-8549-0c91b4105bc6",
   "metadata": {},
   "outputs": [
    {
     "data": {
      "text/html": [
       "<div>\n",
       "<style scoped>\n",
       "    .dataframe tbody tr th:only-of-type {\n",
       "        vertical-align: middle;\n",
       "    }\n",
       "\n",
       "    .dataframe tbody tr th {\n",
       "        vertical-align: top;\n",
       "    }\n",
       "\n",
       "    .dataframe thead th {\n",
       "        text-align: right;\n",
       "    }\n",
       "</style>\n",
       "<table border=\"1\" class=\"dataframe\">\n",
       "  <thead>\n",
       "    <tr style=\"text-align: right;\">\n",
       "      <th></th>\n",
       "      <th>A</th>\n",
       "      <th>B</th>\n",
       "      <th>C</th>\n",
       "    </tr>\n",
       "  </thead>\n",
       "  <tbody>\n",
       "    <tr>\n",
       "      <th>1</th>\n",
       "      <td>98</td>\n",
       "      <td>2.23</td>\n",
       "      <td>2</td>\n",
       "    </tr>\n",
       "    <tr>\n",
       "      <th>2</th>\n",
       "      <td>81</td>\n",
       "      <td>4.56</td>\n",
       "      <td>5</td>\n",
       "    </tr>\n",
       "    <tr>\n",
       "      <th>3</th>\n",
       "      <td>67</td>\n",
       "      <td>5.73</td>\n",
       "      <td>6</td>\n",
       "    </tr>\n",
       "    <tr>\n",
       "      <th>4</th>\n",
       "      <td>22</td>\n",
       "      <td>5.32</td>\n",
       "      <td>3</td>\n",
       "    </tr>\n",
       "    <tr>\n",
       "      <th>5</th>\n",
       "      <td>99</td>\n",
       "      <td>5.47</td>\n",
       "      <td>5</td>\n",
       "    </tr>\n",
       "  </tbody>\n",
       "</table>\n",
       "</div>"
      ],
      "text/plain": [
       "    A     B  C\n",
       "1  98  2.23  2\n",
       "2  81  4.56  5\n",
       "3  67  5.73  6\n",
       "4  22  5.32  3\n",
       "5  99  5.47  5"
      ]
     },
     "execution_count": 57,
     "metadata": {},
     "output_type": "execute_result"
    }
   ],
   "source": [
    "# Create a dataframe from a dictionary of ndarrays / lists\n",
    "d = {\"A\": np.random.randint(1, 100, 5), \n",
    "     \"B\": [2.23, 4.56, 5.73, 5.32, 5.47],\n",
    "     \"C\": [2, 5, 6, 3, 5]}\n",
    "pd.DataFrame(d, index = range(1, 6))"
   ]
  },
  {
   "cell_type": "code",
   "execution_count": 62,
   "id": "9fa81601-bd50-4fef-8a00-68ad2f67e0c0",
   "metadata": {},
   "outputs": [
    {
     "data": {
      "text/html": [
       "<div>\n",
       "<style scoped>\n",
       "    .dataframe tbody tr th:only-of-type {\n",
       "        vertical-align: middle;\n",
       "    }\n",
       "\n",
       "    .dataframe tbody tr th {\n",
       "        vertical-align: top;\n",
       "    }\n",
       "\n",
       "    .dataframe thead th {\n",
       "        text-align: right;\n",
       "    }\n",
       "</style>\n",
       "<table border=\"1\" class=\"dataframe\">\n",
       "  <thead>\n",
       "    <tr style=\"text-align: right;\">\n",
       "      <th></th>\n",
       "      <th>a</th>\n",
       "      <th>b</th>\n",
       "      <th>c</th>\n",
       "    </tr>\n",
       "  </thead>\n",
       "  <tbody>\n",
       "    <tr>\n",
       "      <th>0</th>\n",
       "      <td>1.0</td>\n",
       "      <td>2.0</td>\n",
       "      <td>NaN</td>\n",
       "    </tr>\n",
       "    <tr>\n",
       "      <th>1</th>\n",
       "      <td>NaN</td>\n",
       "      <td>3.0</td>\n",
       "      <td>24.0</td>\n",
       "    </tr>\n",
       "    <tr>\n",
       "      <th>2</th>\n",
       "      <td>5.0</td>\n",
       "      <td>10.0</td>\n",
       "      <td>20.0</td>\n",
       "    </tr>\n",
       "    <tr>\n",
       "      <th>3</th>\n",
       "      <td>13.0</td>\n",
       "      <td>NaN</td>\n",
       "      <td>2.0</td>\n",
       "    </tr>\n",
       "  </tbody>\n",
       "</table>\n",
       "</div>"
      ],
      "text/plain": [
       "      a     b     c\n",
       "0   1.0   2.0   NaN\n",
       "1   NaN   3.0  24.0\n",
       "2   5.0  10.0  20.0\n",
       "3  13.0   NaN   2.0"
      ]
     },
     "execution_count": 62,
     "metadata": {},
     "output_type": "execute_result"
    }
   ],
   "source": [
    "# Create a dataframe from a list of dictionary\n",
    "l = [{\"a\": 1, \"b\": 2}, \n",
    "     {\"b\": 3, \"c\": 24},\n",
    "     {\"a\": 5, \"b\": 10, \"c\": 20}, \n",
    "     {\"a\": 13, \"c\": 2}]\n",
    "pd.DataFrame(l)"
   ]
  },
  {
   "cell_type": "markdown",
   "id": "19391688-0fea-4d4a-99af-e3e79423fa1f",
   "metadata": {},
   "source": [
    "### DataFrame - Adding and Deleting Columns"
   ]
  },
  {
   "cell_type": "code",
   "execution_count": 86,
   "id": "d513cd6b-dd38-4909-a6cb-2ada43054409",
   "metadata": {},
   "outputs": [
    {
     "data": {
      "text/html": [
       "<div>\n",
       "<style scoped>\n",
       "    .dataframe tbody tr th:only-of-type {\n",
       "        vertical-align: middle;\n",
       "    }\n",
       "\n",
       "    .dataframe tbody tr th {\n",
       "        vertical-align: top;\n",
       "    }\n",
       "\n",
       "    .dataframe thead th {\n",
       "        text-align: right;\n",
       "    }\n",
       "</style>\n",
       "<table border=\"1\" class=\"dataframe\">\n",
       "  <thead>\n",
       "    <tr style=\"text-align: right;\">\n",
       "      <th></th>\n",
       "      <th>a</th>\n",
       "      <th>b</th>\n",
       "      <th>c</th>\n",
       "      <th>..new..</th>\n",
       "      <th>d</th>\n",
       "      <th>e</th>\n",
       "      <th>f</th>\n",
       "    </tr>\n",
       "  </thead>\n",
       "  <tbody>\n",
       "    <tr>\n",
       "      <th>0</th>\n",
       "      <td>1.0</td>\n",
       "      <td>2.0</td>\n",
       "      <td>NaN</td>\n",
       "      <td>2.0</td>\n",
       "      <td>Sample A</td>\n",
       "      <td>1</td>\n",
       "      <td>4</td>\n",
       "    </tr>\n",
       "    <tr>\n",
       "      <th>1</th>\n",
       "      <td>NaN</td>\n",
       "      <td>3.0</td>\n",
       "      <td>24.0</td>\n",
       "      <td>3.0</td>\n",
       "      <td>Sample A</td>\n",
       "      <td>1</td>\n",
       "      <td>5</td>\n",
       "    </tr>\n",
       "    <tr>\n",
       "      <th>2</th>\n",
       "      <td>5.0</td>\n",
       "      <td>10.0</td>\n",
       "      <td>20.0</td>\n",
       "      <td>10.0</td>\n",
       "      <td>Sample A</td>\n",
       "      <td>2</td>\n",
       "      <td>4</td>\n",
       "    </tr>\n",
       "    <tr>\n",
       "      <th>3</th>\n",
       "      <td>13.0</td>\n",
       "      <td>NaN</td>\n",
       "      <td>2.0</td>\n",
       "      <td>NaN</td>\n",
       "      <td>Sample A</td>\n",
       "      <td>2</td>\n",
       "      <td>5</td>\n",
       "    </tr>\n",
       "  </tbody>\n",
       "</table>\n",
       "</div>"
      ],
      "text/plain": [
       "      a     b     c  ..new..         d  e  f\n",
       "0   1.0   2.0   NaN      2.0  Sample A  1  4\n",
       "1   NaN   3.0  24.0      3.0  Sample A  1  5\n",
       "2   5.0  10.0  20.0     10.0  Sample A  2  4\n",
       "3  13.0   NaN   2.0      NaN  Sample A  2  5"
      ]
     },
     "execution_count": 86,
     "metadata": {},
     "output_type": "execute_result"
    }
   ],
   "source": [
    "# Add a new column to an existing dataframe\n",
    "df = pd.DataFrame(l)\n",
    "\n",
    "df[\"d\"] = \"Sample A\"\n",
    "df[\"e\"] = [\"1\", \"1\", \"2\", \"2\"]\n",
    "df[\"f\"] = [\"4\", \"5\", \"4\", \"5\"]\n",
    "df.insert(3, \"..new..\", df[\"b\"])\n",
    "\n",
    "df"
   ]
  },
  {
   "cell_type": "code",
   "execution_count": 87,
   "id": "e9464177-4f7a-4ee6-b05a-9f5d9fb68579",
   "metadata": {},
   "outputs": [
    {
     "data": {
      "text/html": [
       "<div>\n",
       "<style scoped>\n",
       "    .dataframe tbody tr th:only-of-type {\n",
       "        vertical-align: middle;\n",
       "    }\n",
       "\n",
       "    .dataframe tbody tr th {\n",
       "        vertical-align: top;\n",
       "    }\n",
       "\n",
       "    .dataframe thead th {\n",
       "        text-align: right;\n",
       "    }\n",
       "</style>\n",
       "<table border=\"1\" class=\"dataframe\">\n",
       "  <thead>\n",
       "    <tr style=\"text-align: right;\">\n",
       "      <th></th>\n",
       "      <th>a</th>\n",
       "      <th>b</th>\n",
       "      <th>c</th>\n",
       "      <th>..new..</th>\n",
       "      <th>d</th>\n",
       "      <th>e</th>\n",
       "    </tr>\n",
       "  </thead>\n",
       "  <tbody>\n",
       "    <tr>\n",
       "      <th>0</th>\n",
       "      <td>1.0</td>\n",
       "      <td>2.0</td>\n",
       "      <td>NaN</td>\n",
       "      <td>2.0</td>\n",
       "      <td>Sample A</td>\n",
       "      <td>1</td>\n",
       "    </tr>\n",
       "    <tr>\n",
       "      <th>1</th>\n",
       "      <td>NaN</td>\n",
       "      <td>3.0</td>\n",
       "      <td>24.0</td>\n",
       "      <td>3.0</td>\n",
       "      <td>Sample A</td>\n",
       "      <td>1</td>\n",
       "    </tr>\n",
       "    <tr>\n",
       "      <th>2</th>\n",
       "      <td>5.0</td>\n",
       "      <td>10.0</td>\n",
       "      <td>20.0</td>\n",
       "      <td>10.0</td>\n",
       "      <td>Sample A</td>\n",
       "      <td>2</td>\n",
       "    </tr>\n",
       "    <tr>\n",
       "      <th>3</th>\n",
       "      <td>13.0</td>\n",
       "      <td>NaN</td>\n",
       "      <td>2.0</td>\n",
       "      <td>NaN</td>\n",
       "      <td>Sample A</td>\n",
       "      <td>2</td>\n",
       "    </tr>\n",
       "  </tbody>\n",
       "</table>\n",
       "</div>"
      ],
      "text/plain": [
       "      a     b     c  ..new..         d  e\n",
       "0   1.0   2.0   NaN      2.0  Sample A  1\n",
       "1   NaN   3.0  24.0      3.0  Sample A  1\n",
       "2   5.0  10.0  20.0     10.0  Sample A  2\n",
       "3  13.0   NaN   2.0      NaN  Sample A  2"
      ]
     },
     "execution_count": 87,
     "metadata": {},
     "output_type": "execute_result"
    }
   ],
   "source": [
    "# delete a column\n",
    "del df[\"f\"]\n",
    "df"
   ]
  },
  {
   "cell_type": "markdown",
   "id": "0b97e7c4-9367-4bb2-8656-1e33e76c3251",
   "metadata": {},
   "source": [
    "### DataFrame - Accessing Elements"
   ]
  },
  {
   "cell_type": "code",
   "execution_count": 76,
   "id": "b0c458d7-c64b-4883-ac63-19f07442798d",
   "metadata": {},
   "outputs": [
    {
     "data": {
      "text/plain": [
       "0     1.0\n",
       "1     NaN\n",
       "2     5.0\n",
       "3    13.0\n",
       "Name: a, dtype: float64"
      ]
     },
     "execution_count": 76,
     "metadata": {},
     "output_type": "execute_result"
    }
   ],
   "source": [
    "# Select column \"a\" in df\n",
    "df[\"a\"]"
   ]
  },
  {
   "cell_type": "code",
   "execution_count": 83,
   "id": "ca610bd7-bcfe-4b3e-8afd-24f3560c9682",
   "metadata": {},
   "outputs": [
    {
     "data": {
      "text/plain": [
       "0     2.0\n",
       "1     3.0\n",
       "2    10.0\n",
       "3     NaN\n",
       "Name: b, dtype: float64"
      ]
     },
     "execution_count": 83,
     "metadata": {},
     "output_type": "execute_result"
    }
   ],
   "source": [
    "# Select column \"b\" in df\n",
    "df.b"
   ]
  },
  {
   "cell_type": "code",
   "execution_count": 84,
   "id": "882fa740-ea68-48b0-9474-834e8340aa84",
   "metadata": {},
   "outputs": [
    {
     "data": {
      "text/plain": [
       "(3.0, 'Sample A', '2')"
      ]
     },
     "execution_count": 84,
     "metadata": {},
     "output_type": "execute_result"
    }
   ],
   "source": [
    "# Access elements in df\n",
    "df[\"b\"][1], df[\"d\"][3], df[\"e\"][2]"
   ]
  },
  {
   "cell_type": "code",
   "execution_count": 125,
   "id": "c08cb1cc-8cde-42d5-b7e3-3ea2820dbd3f",
   "metadata": {},
   "outputs": [
    {
     "data": {
      "text/html": [
       "<div>\n",
       "<style scoped>\n",
       "    .dataframe tbody tr th:only-of-type {\n",
       "        vertical-align: middle;\n",
       "    }\n",
       "\n",
       "    .dataframe tbody tr th {\n",
       "        vertical-align: top;\n",
       "    }\n",
       "\n",
       "    .dataframe thead th {\n",
       "        text-align: right;\n",
       "    }\n",
       "</style>\n",
       "<table border=\"1\" class=\"dataframe\">\n",
       "  <thead>\n",
       "    <tr style=\"text-align: right;\">\n",
       "      <th></th>\n",
       "      <th>a</th>\n",
       "      <th>b</th>\n",
       "      <th>c</th>\n",
       "      <th>..new..</th>\n",
       "      <th>d</th>\n",
       "      <th>e</th>\n",
       "    </tr>\n",
       "  </thead>\n",
       "  <tbody>\n",
       "    <tr>\n",
       "      <th>Kai</th>\n",
       "      <td>NaN</td>\n",
       "      <td>3.0</td>\n",
       "      <td>24.0</td>\n",
       "      <td>3.0</td>\n",
       "      <td>Sample A</td>\n",
       "      <td>1</td>\n",
       "    </tr>\n",
       "    <tr>\n",
       "      <th>Loe</th>\n",
       "      <td>5.0</td>\n",
       "      <td>10.0</td>\n",
       "      <td>20.0</td>\n",
       "      <td>10.0</td>\n",
       "      <td>Sample A</td>\n",
       "      <td>2</td>\n",
       "    </tr>\n",
       "  </tbody>\n",
       "</table>\n",
       "</div>"
      ],
      "text/plain": [
       "       a     b     c  ..new..         d  e\n",
       "Kai  NaN   3.0  24.0      3.0  Sample A  1\n",
       "Loe  5.0  10.0  20.0     10.0  Sample A  2"
      ]
     },
     "execution_count": 125,
     "metadata": {},
     "output_type": "execute_result"
    }
   ],
   "source": [
    "# Filter specified rows\n",
    "df[df.b >= 3]"
   ]
  },
  {
   "cell_type": "markdown",
   "id": "3f378372-98d1-43f8-b89a-9da198b1c64c",
   "metadata": {},
   "source": [
    "### Pandas Accessors\n",
    "\n",
    "There are four Pandas accessors:\n",
    "* `df.loc[]`: label index to access rows or columns, including their parts (it returns a Series or DataFrame).\n",
    "* `df.iloc[]`: positional index to access rows and columns, including their parts (it returns a Series or DataFrame).\n",
    "* `df.at[]`: label index to access a single data value.\n",
    "* `df.iat[]`: positional index to access a single data value.\n",
    "\n",
    "`df` refers to a dataframe object."
   ]
  },
  {
   "cell_type": "code",
   "execution_count": 97,
   "id": "4e723b02-ed0f-4637-97b2-c696f53809cf",
   "metadata": {},
   "outputs": [],
   "source": [
    "df.index = [\"Joa\", \"Kai\", \"Loe\", \"Nui\"]"
   ]
  },
  {
   "cell_type": "code",
   "execution_count": 100,
   "id": "745e7bbb-cd32-46b3-bfb5-9ec07eb03164",
   "metadata": {},
   "outputs": [
    {
     "data": {
      "text/html": [
       "<div>\n",
       "<style scoped>\n",
       "    .dataframe tbody tr th:only-of-type {\n",
       "        vertical-align: middle;\n",
       "    }\n",
       "\n",
       "    .dataframe tbody tr th {\n",
       "        vertical-align: top;\n",
       "    }\n",
       "\n",
       "    .dataframe thead th {\n",
       "        text-align: right;\n",
       "    }\n",
       "</style>\n",
       "<table border=\"1\" class=\"dataframe\">\n",
       "  <thead>\n",
       "    <tr style=\"text-align: right;\">\n",
       "      <th></th>\n",
       "      <th>a</th>\n",
       "      <th>b</th>\n",
       "      <th>c</th>\n",
       "      <th>..new..</th>\n",
       "      <th>d</th>\n",
       "      <th>e</th>\n",
       "    </tr>\n",
       "  </thead>\n",
       "  <tbody>\n",
       "    <tr>\n",
       "      <th>Joa</th>\n",
       "      <td>1.0</td>\n",
       "      <td>2.0</td>\n",
       "      <td>NaN</td>\n",
       "      <td>2.0</td>\n",
       "      <td>Sample A</td>\n",
       "      <td>1</td>\n",
       "    </tr>\n",
       "    <tr>\n",
       "      <th>Kai</th>\n",
       "      <td>NaN</td>\n",
       "      <td>3.0</td>\n",
       "      <td>24.0</td>\n",
       "      <td>3.0</td>\n",
       "      <td>Sample A</td>\n",
       "      <td>1</td>\n",
       "    </tr>\n",
       "  </tbody>\n",
       "</table>\n",
       "</div>"
      ],
      "text/plain": [
       "       a    b     c  ..new..         d  e\n",
       "Joa  1.0  2.0   NaN      2.0  Sample A  1\n",
       "Kai  NaN  3.0  24.0      3.0  Sample A  1"
      ]
     },
     "execution_count": 100,
     "metadata": {},
     "output_type": "execute_result"
    }
   ],
   "source": [
    "df.loc[[\"Joa\", \"Kai\"], :]"
   ]
  },
  {
   "cell_type": "code",
   "execution_count": 102,
   "id": "589be8cf-29fb-409f-8fbf-d6927568f93d",
   "metadata": {},
   "outputs": [
    {
     "data": {
      "text/plain": [
       "Joa    1\n",
       "Kai    1\n",
       "Name: e, dtype: object"
      ]
     },
     "execution_count": 102,
     "metadata": {},
     "output_type": "execute_result"
    }
   ],
   "source": [
    "df.loc[[\"Joa\", \"Kai\"], \"e\"]"
   ]
  },
  {
   "cell_type": "code",
   "execution_count": 105,
   "id": "d741883e-ef0f-4ff7-8cc8-cfd35e617cab",
   "metadata": {},
   "outputs": [
    {
     "data": {
      "text/html": [
       "<div>\n",
       "<style scoped>\n",
       "    .dataframe tbody tr th:only-of-type {\n",
       "        vertical-align: middle;\n",
       "    }\n",
       "\n",
       "    .dataframe tbody tr th {\n",
       "        vertical-align: top;\n",
       "    }\n",
       "\n",
       "    .dataframe thead th {\n",
       "        text-align: right;\n",
       "    }\n",
       "</style>\n",
       "<table border=\"1\" class=\"dataframe\">\n",
       "  <thead>\n",
       "    <tr style=\"text-align: right;\">\n",
       "      <th></th>\n",
       "      <th>b</th>\n",
       "      <th>c</th>\n",
       "    </tr>\n",
       "  </thead>\n",
       "  <tbody>\n",
       "    <tr>\n",
       "      <th>Joa</th>\n",
       "      <td>2.0</td>\n",
       "      <td>NaN</td>\n",
       "    </tr>\n",
       "    <tr>\n",
       "      <th>Kai</th>\n",
       "      <td>3.0</td>\n",
       "      <td>24.0</td>\n",
       "    </tr>\n",
       "    <tr>\n",
       "      <th>Loe</th>\n",
       "      <td>10.0</td>\n",
       "      <td>20.0</td>\n",
       "    </tr>\n",
       "    <tr>\n",
       "      <th>Nui</th>\n",
       "      <td>NaN</td>\n",
       "      <td>2.0</td>\n",
       "    </tr>\n",
       "  </tbody>\n",
       "</table>\n",
       "</div>"
      ],
      "text/plain": [
       "        b     c\n",
       "Joa   2.0   NaN\n",
       "Kai   3.0  24.0\n",
       "Loe  10.0  20.0\n",
       "Nui   NaN   2.0"
      ]
     },
     "execution_count": 105,
     "metadata": {},
     "output_type": "execute_result"
    }
   ],
   "source": [
    "df.iloc[:, 1:3]"
   ]
  },
  {
   "cell_type": "code",
   "execution_count": 107,
   "id": "b6d1c844-a682-4548-a9d9-53697e65a0c5",
   "metadata": {},
   "outputs": [
    {
     "data": {
      "text/html": [
       "<div>\n",
       "<style scoped>\n",
       "    .dataframe tbody tr th:only-of-type {\n",
       "        vertical-align: middle;\n",
       "    }\n",
       "\n",
       "    .dataframe tbody tr th {\n",
       "        vertical-align: top;\n",
       "    }\n",
       "\n",
       "    .dataframe thead th {\n",
       "        text-align: right;\n",
       "    }\n",
       "</style>\n",
       "<table border=\"1\" class=\"dataframe\">\n",
       "  <thead>\n",
       "    <tr style=\"text-align: right;\">\n",
       "      <th></th>\n",
       "      <th>b</th>\n",
       "      <th>d</th>\n",
       "      <th>e</th>\n",
       "    </tr>\n",
       "  </thead>\n",
       "  <tbody>\n",
       "    <tr>\n",
       "      <th>Joa</th>\n",
       "      <td>2.0</td>\n",
       "      <td>Sample A</td>\n",
       "      <td>1</td>\n",
       "    </tr>\n",
       "    <tr>\n",
       "      <th>Kai</th>\n",
       "      <td>3.0</td>\n",
       "      <td>Sample A</td>\n",
       "      <td>1</td>\n",
       "    </tr>\n",
       "    <tr>\n",
       "      <th>Loe</th>\n",
       "      <td>10.0</td>\n",
       "      <td>Sample A</td>\n",
       "      <td>2</td>\n",
       "    </tr>\n",
       "    <tr>\n",
       "      <th>Nui</th>\n",
       "      <td>NaN</td>\n",
       "      <td>Sample A</td>\n",
       "      <td>2</td>\n",
       "    </tr>\n",
       "  </tbody>\n",
       "</table>\n",
       "</div>"
      ],
      "text/plain": [
       "        b         d  e\n",
       "Joa   2.0  Sample A  1\n",
       "Kai   3.0  Sample A  1\n",
       "Loe  10.0  Sample A  2\n",
       "Nui   NaN  Sample A  2"
      ]
     },
     "execution_count": 107,
     "metadata": {},
     "output_type": "execute_result"
    }
   ],
   "source": [
    "df.iloc[:, [1,4,5]]"
   ]
  },
  {
   "cell_type": "code",
   "execution_count": 120,
   "id": "2cd457df-d5f6-4fe2-b136-3320728d4003",
   "metadata": {},
   "outputs": [
    {
     "data": {
      "text/plain": [
       "10.0"
      ]
     },
     "execution_count": 120,
     "metadata": {},
     "output_type": "execute_result"
    }
   ],
   "source": [
    "df.iat[2, 1]"
   ]
  },
  {
   "cell_type": "code",
   "execution_count": 121,
   "id": "977148ed-def8-4ba1-8fbe-ea9360b4b77d",
   "metadata": {},
   "outputs": [
    {
     "data": {
      "text/plain": [
       "10.0"
      ]
     },
     "execution_count": 121,
     "metadata": {},
     "output_type": "execute_result"
    }
   ],
   "source": [
    "df.iloc[2, 1]"
   ]
  },
  {
   "cell_type": "code",
   "execution_count": 118,
   "id": "d7e2b5b1-bc74-4603-928c-c9f5e7ed4920",
   "metadata": {},
   "outputs": [
    {
     "data": {
      "text/plain": [
       "1.0"
      ]
     },
     "execution_count": 118,
     "metadata": {},
     "output_type": "execute_result"
    }
   ],
   "source": [
    "df.at[\"Joa\", \"a\"]"
   ]
  },
  {
   "cell_type": "code",
   "execution_count": 122,
   "id": "ad39006a-528a-46d1-9e7a-9549ec89d3d9",
   "metadata": {},
   "outputs": [
    {
     "data": {
      "text/plain": [
       "1.0"
      ]
     },
     "execution_count": 122,
     "metadata": {},
     "output_type": "execute_result"
    }
   ],
   "source": [
    "df.loc[\"Joa\", \"a\"]"
   ]
  },
  {
   "cell_type": "markdown",
   "id": "340eb45e-730a-4cab-b703-d0571edcdb1d",
   "metadata": {},
   "source": [
    "## Manipulating Data"
   ]
  },
  {
   "cell_type": "markdown",
   "id": "f217845d-1b44-4b43-8c94-55d1bad81a67",
   "metadata": {
    "tags": []
   },
   "source": [
    "### Concatenating DataFrames"
   ]
  },
  {
   "cell_type": "code",
   "execution_count": 243,
   "id": "8e8a4135-3b10-46d3-9531-49795eb52a60",
   "metadata": {},
   "outputs": [],
   "source": [
    "df1 = pd.DataFrame(\n",
    "    {\"T\": [\"A1\", \"A2\", \"A3\"],\n",
    "     \"A\": np.random.randint(1, 100, 3),\n",
    "     \"B\": np.random.rand(3),\n",
    "     \"C\": np.random.randn(3) * 5\n",
    "    },\n",
    "    index = range(3)\n",
    ")\n",
    "\n",
    "df2 = pd.DataFrame(\n",
    "    {\"T\": [\"B1\", \"B2\", \"B3\"],\n",
    "     \"A\": np.random.randint(1, 100, 3),\n",
    "     \"B\": np.random.rand(3) * 2,\n",
    "     \"C\": np.random.randn(3) * 15\n",
    "    },\n",
    "    index = range(3, 6)\n",
    ")\n",
    "\n",
    "df3 = pd.DataFrame(\n",
    "    {\"T\": [\"C1\", \"C2\", \"C3\"],\n",
    "     \"A\": np.random.randint(1, 100, 3),\n",
    "     \"B\": np.random.rand(3) * 3,\n",
    "     \"C\": np.random.randn(3) * 25\n",
    "    },\n",
    "    index = range(6, 9)\n",
    ")\n",
    "\n",
    "df4 = pd.DataFrame(\n",
    "    {\"D\": np.random.randint(-20, 50, 4),\n",
    "     \"E\": np.random.rand(4) * 30,\n",
    "     \"F\": np.random.randn(4) * 250\n",
    "    },\n",
    "    index=[1, 2, 3, 5],\n",
    ")\n",
    "\n",
    "frames = [df1, df2, df3]"
   ]
  },
  {
   "cell_type": "code",
   "execution_count": 193,
   "id": "73327dda-63de-4e21-afa3-147fe3038e24",
   "metadata": {},
   "outputs": [
    {
     "data": {
      "text/html": [
       "<div>\n",
       "<style scoped>\n",
       "    .dataframe tbody tr th:only-of-type {\n",
       "        vertical-align: middle;\n",
       "    }\n",
       "\n",
       "    .dataframe tbody tr th {\n",
       "        vertical-align: top;\n",
       "    }\n",
       "\n",
       "    .dataframe thead th {\n",
       "        text-align: right;\n",
       "    }\n",
       "</style>\n",
       "<table border=\"1\" class=\"dataframe\">\n",
       "  <thead>\n",
       "    <tr style=\"text-align: right;\">\n",
       "      <th></th>\n",
       "      <th>T</th>\n",
       "      <th>A</th>\n",
       "      <th>B</th>\n",
       "      <th>C</th>\n",
       "    </tr>\n",
       "  </thead>\n",
       "  <tbody>\n",
       "    <tr>\n",
       "      <th>0</th>\n",
       "      <td>A1</td>\n",
       "      <td>54</td>\n",
       "      <td>0.334162</td>\n",
       "      <td>-3.005192</td>\n",
       "    </tr>\n",
       "    <tr>\n",
       "      <th>1</th>\n",
       "      <td>A2</td>\n",
       "      <td>20</td>\n",
       "      <td>0.880275</td>\n",
       "      <td>2.522345</td>\n",
       "    </tr>\n",
       "    <tr>\n",
       "      <th>2</th>\n",
       "      <td>A2</td>\n",
       "      <td>67</td>\n",
       "      <td>0.359222</td>\n",
       "      <td>-0.022543</td>\n",
       "    </tr>\n",
       "    <tr>\n",
       "      <th>3</th>\n",
       "      <td>B1</td>\n",
       "      <td>3</td>\n",
       "      <td>1.964834</td>\n",
       "      <td>17.495099</td>\n",
       "    </tr>\n",
       "    <tr>\n",
       "      <th>4</th>\n",
       "      <td>B2</td>\n",
       "      <td>69</td>\n",
       "      <td>1.934187</td>\n",
       "      <td>-2.275329</td>\n",
       "    </tr>\n",
       "    <tr>\n",
       "      <th>5</th>\n",
       "      <td>B3</td>\n",
       "      <td>67</td>\n",
       "      <td>1.784727</td>\n",
       "      <td>36.293834</td>\n",
       "    </tr>\n",
       "    <tr>\n",
       "      <th>6</th>\n",
       "      <td>C1</td>\n",
       "      <td>67</td>\n",
       "      <td>2.147670</td>\n",
       "      <td>-1.019577</td>\n",
       "    </tr>\n",
       "    <tr>\n",
       "      <th>7</th>\n",
       "      <td>C2</td>\n",
       "      <td>19</td>\n",
       "      <td>0.149071</td>\n",
       "      <td>-40.394522</td>\n",
       "    </tr>\n",
       "    <tr>\n",
       "      <th>8</th>\n",
       "      <td>C3</td>\n",
       "      <td>21</td>\n",
       "      <td>0.905333</td>\n",
       "      <td>23.355614</td>\n",
       "    </tr>\n",
       "  </tbody>\n",
       "</table>\n",
       "</div>"
      ],
      "text/plain": [
       "    T   A         B          C\n",
       "0  A1  54  0.334162  -3.005192\n",
       "1  A2  20  0.880275   2.522345\n",
       "2  A2  67  0.359222  -0.022543\n",
       "3  B1   3  1.964834  17.495099\n",
       "4  B2  69  1.934187  -2.275329\n",
       "5  B3  67  1.784727  36.293834\n",
       "6  C1  67  2.147670  -1.019577\n",
       "7  C2  19  0.149071 -40.394522\n",
       "8  C3  21  0.905333  23.355614"
      ]
     },
     "execution_count": 193,
     "metadata": {},
     "output_type": "execute_result"
    }
   ],
   "source": [
    "# Concatenate the three tables along axis 0 (row)\n",
    "pd.concat(frames)"
   ]
  },
  {
   "cell_type": "code",
   "execution_count": 188,
   "id": "876246e6-ef83-4e81-8e22-f3959752928d",
   "metadata": {},
   "outputs": [
    {
     "data": {
      "text/html": [
       "<div>\n",
       "<style scoped>\n",
       "    .dataframe tbody tr th:only-of-type {\n",
       "        vertical-align: middle;\n",
       "    }\n",
       "\n",
       "    .dataframe tbody tr th {\n",
       "        vertical-align: top;\n",
       "    }\n",
       "\n",
       "    .dataframe thead th {\n",
       "        text-align: right;\n",
       "    }\n",
       "</style>\n",
       "<table border=\"1\" class=\"dataframe\">\n",
       "  <thead>\n",
       "    <tr style=\"text-align: right;\">\n",
       "      <th></th>\n",
       "      <th></th>\n",
       "      <th>T</th>\n",
       "      <th>A</th>\n",
       "      <th>B</th>\n",
       "      <th>C</th>\n",
       "    </tr>\n",
       "  </thead>\n",
       "  <tbody>\n",
       "    <tr>\n",
       "      <th rowspan=\"3\" valign=\"top\">A</th>\n",
       "      <th>0</th>\n",
       "      <td>A1</td>\n",
       "      <td>54</td>\n",
       "      <td>0.334162</td>\n",
       "      <td>-3.005192</td>\n",
       "    </tr>\n",
       "    <tr>\n",
       "      <th>1</th>\n",
       "      <td>A2</td>\n",
       "      <td>20</td>\n",
       "      <td>0.880275</td>\n",
       "      <td>2.522345</td>\n",
       "    </tr>\n",
       "    <tr>\n",
       "      <th>2</th>\n",
       "      <td>A2</td>\n",
       "      <td>67</td>\n",
       "      <td>0.359222</td>\n",
       "      <td>-0.022543</td>\n",
       "    </tr>\n",
       "    <tr>\n",
       "      <th rowspan=\"3\" valign=\"top\">B</th>\n",
       "      <th>3</th>\n",
       "      <td>B1</td>\n",
       "      <td>3</td>\n",
       "      <td>1.964834</td>\n",
       "      <td>17.495099</td>\n",
       "    </tr>\n",
       "    <tr>\n",
       "      <th>4</th>\n",
       "      <td>B2</td>\n",
       "      <td>69</td>\n",
       "      <td>1.934187</td>\n",
       "      <td>-2.275329</td>\n",
       "    </tr>\n",
       "    <tr>\n",
       "      <th>5</th>\n",
       "      <td>B3</td>\n",
       "      <td>67</td>\n",
       "      <td>1.784727</td>\n",
       "      <td>36.293834</td>\n",
       "    </tr>\n",
       "    <tr>\n",
       "      <th rowspan=\"3\" valign=\"top\">C</th>\n",
       "      <th>6</th>\n",
       "      <td>C1</td>\n",
       "      <td>67</td>\n",
       "      <td>2.147670</td>\n",
       "      <td>-1.019577</td>\n",
       "    </tr>\n",
       "    <tr>\n",
       "      <th>7</th>\n",
       "      <td>C2</td>\n",
       "      <td>19</td>\n",
       "      <td>0.149071</td>\n",
       "      <td>-40.394522</td>\n",
       "    </tr>\n",
       "    <tr>\n",
       "      <th>8</th>\n",
       "      <td>C3</td>\n",
       "      <td>21</td>\n",
       "      <td>0.905333</td>\n",
       "      <td>23.355614</td>\n",
       "    </tr>\n",
       "  </tbody>\n",
       "</table>\n",
       "</div>"
      ],
      "text/plain": [
       "      T   A         B          C\n",
       "A 0  A1  54  0.334162  -3.005192\n",
       "  1  A2  20  0.880275   2.522345\n",
       "  2  A2  67  0.359222  -0.022543\n",
       "B 3  B1   3  1.964834  17.495099\n",
       "  4  B2  69  1.934187  -2.275329\n",
       "  5  B3  67  1.784727  36.293834\n",
       "C 6  C1  67  2.147670  -1.019577\n",
       "  7  C2  19  0.149071 -40.394522\n",
       "  8  C3  21  0.905333  23.355614"
      ]
     },
     "execution_count": 188,
     "metadata": {},
     "output_type": "execute_result"
    }
   ],
   "source": [
    "# Concatenate the three tables with hierarchical index\n",
    "pd.concat(frames, keys = [\"A\", \"B\", \"C\"])"
   ]
  },
  {
   "cell_type": "code",
   "execution_count": 192,
   "id": "e43edb6c-7dc9-4b84-8425-908cc5d00caf",
   "metadata": {},
   "outputs": [
    {
     "data": {
      "text/html": [
       "<div>\n",
       "<style scoped>\n",
       "    .dataframe tbody tr th:only-of-type {\n",
       "        vertical-align: middle;\n",
       "    }\n",
       "\n",
       "    .dataframe tbody tr th {\n",
       "        vertical-align: top;\n",
       "    }\n",
       "\n",
       "    .dataframe thead th {\n",
       "        text-align: right;\n",
       "    }\n",
       "</style>\n",
       "<table border=\"1\" class=\"dataframe\">\n",
       "  <thead>\n",
       "    <tr style=\"text-align: right;\">\n",
       "      <th></th>\n",
       "      <th>T</th>\n",
       "      <th>A</th>\n",
       "      <th>B</th>\n",
       "      <th>C</th>\n",
       "      <th>T</th>\n",
       "      <th>A</th>\n",
       "      <th>B</th>\n",
       "      <th>C</th>\n",
       "      <th>D</th>\n",
       "      <th>E</th>\n",
       "      <th>F</th>\n",
       "    </tr>\n",
       "  </thead>\n",
       "  <tbody>\n",
       "    <tr>\n",
       "      <th>0</th>\n",
       "      <td>A1</td>\n",
       "      <td>54.0</td>\n",
       "      <td>0.334162</td>\n",
       "      <td>-3.005192</td>\n",
       "      <td>NaN</td>\n",
       "      <td>NaN</td>\n",
       "      <td>NaN</td>\n",
       "      <td>NaN</td>\n",
       "      <td>NaN</td>\n",
       "      <td>NaN</td>\n",
       "      <td>NaN</td>\n",
       "    </tr>\n",
       "    <tr>\n",
       "      <th>1</th>\n",
       "      <td>A2</td>\n",
       "      <td>20.0</td>\n",
       "      <td>0.880275</td>\n",
       "      <td>2.522345</td>\n",
       "      <td>NaN</td>\n",
       "      <td>NaN</td>\n",
       "      <td>NaN</td>\n",
       "      <td>NaN</td>\n",
       "      <td>-15.0</td>\n",
       "      <td>0.321643</td>\n",
       "      <td>130.521988</td>\n",
       "    </tr>\n",
       "    <tr>\n",
       "      <th>2</th>\n",
       "      <td>A2</td>\n",
       "      <td>67.0</td>\n",
       "      <td>0.359222</td>\n",
       "      <td>-0.022543</td>\n",
       "      <td>NaN</td>\n",
       "      <td>NaN</td>\n",
       "      <td>NaN</td>\n",
       "      <td>NaN</td>\n",
       "      <td>0.0</td>\n",
       "      <td>10.022872</td>\n",
       "      <td>-81.503211</td>\n",
       "    </tr>\n",
       "    <tr>\n",
       "      <th>3</th>\n",
       "      <td>NaN</td>\n",
       "      <td>NaN</td>\n",
       "      <td>NaN</td>\n",
       "      <td>NaN</td>\n",
       "      <td>B1</td>\n",
       "      <td>3.0</td>\n",
       "      <td>1.964834</td>\n",
       "      <td>17.495099</td>\n",
       "      <td>7.0</td>\n",
       "      <td>2.786687</td>\n",
       "      <td>248.809833</td>\n",
       "    </tr>\n",
       "    <tr>\n",
       "      <th>4</th>\n",
       "      <td>NaN</td>\n",
       "      <td>NaN</td>\n",
       "      <td>NaN</td>\n",
       "      <td>NaN</td>\n",
       "      <td>B2</td>\n",
       "      <td>69.0</td>\n",
       "      <td>1.934187</td>\n",
       "      <td>-2.275329</td>\n",
       "      <td>NaN</td>\n",
       "      <td>NaN</td>\n",
       "      <td>NaN</td>\n",
       "    </tr>\n",
       "    <tr>\n",
       "      <th>5</th>\n",
       "      <td>NaN</td>\n",
       "      <td>NaN</td>\n",
       "      <td>NaN</td>\n",
       "      <td>NaN</td>\n",
       "      <td>B3</td>\n",
       "      <td>67.0</td>\n",
       "      <td>1.784727</td>\n",
       "      <td>36.293834</td>\n",
       "      <td>20.0</td>\n",
       "      <td>29.467086</td>\n",
       "      <td>-30.203732</td>\n",
       "    </tr>\n",
       "  </tbody>\n",
       "</table>\n",
       "</div>"
      ],
      "text/plain": [
       "     T     A         B         C    T     A         B          C     D  \\\n",
       "0   A1  54.0  0.334162 -3.005192  NaN   NaN       NaN        NaN   NaN   \n",
       "1   A2  20.0  0.880275  2.522345  NaN   NaN       NaN        NaN -15.0   \n",
       "2   A2  67.0  0.359222 -0.022543  NaN   NaN       NaN        NaN   0.0   \n",
       "3  NaN   NaN       NaN       NaN   B1   3.0  1.964834  17.495099   7.0   \n",
       "4  NaN   NaN       NaN       NaN   B2  69.0  1.934187  -2.275329   NaN   \n",
       "5  NaN   NaN       NaN       NaN   B3  67.0  1.784727  36.293834  20.0   \n",
       "\n",
       "           E           F  \n",
       "0        NaN         NaN  \n",
       "1   0.321643  130.521988  \n",
       "2  10.022872  -81.503211  \n",
       "3   2.786687  248.809833  \n",
       "4        NaN         NaN  \n",
       "5  29.467086  -30.203732  "
      ]
     },
     "execution_count": 192,
     "metadata": {},
     "output_type": "execute_result"
    }
   ],
   "source": [
    "# Concatenate dataframes along axis 1 (column)\n",
    "pd.concat([df1, df2, df4], axis = 1, join = \"outer\") # join=\"outer\" is the default"
   ]
  },
  {
   "cell_type": "code",
   "execution_count": 196,
   "id": "a22211d6-0cc2-4922-8c0a-e8c5025f5c08",
   "metadata": {},
   "outputs": [
    {
     "data": {
      "text/html": [
       "<div>\n",
       "<style scoped>\n",
       "    .dataframe tbody tr th:only-of-type {\n",
       "        vertical-align: middle;\n",
       "    }\n",
       "\n",
       "    .dataframe tbody tr th {\n",
       "        vertical-align: top;\n",
       "    }\n",
       "\n",
       "    .dataframe thead th {\n",
       "        text-align: right;\n",
       "    }\n",
       "</style>\n",
       "<table border=\"1\" class=\"dataframe\">\n",
       "  <thead>\n",
       "    <tr style=\"text-align: right;\">\n",
       "      <th></th>\n",
       "      <th>T</th>\n",
       "      <th>A</th>\n",
       "      <th>B</th>\n",
       "      <th>C</th>\n",
       "      <th>D</th>\n",
       "      <th>E</th>\n",
       "      <th>F</th>\n",
       "    </tr>\n",
       "  </thead>\n",
       "  <tbody>\n",
       "    <tr>\n",
       "      <th>1</th>\n",
       "      <td>A2</td>\n",
       "      <td>20</td>\n",
       "      <td>0.880275</td>\n",
       "      <td>2.522345</td>\n",
       "      <td>-15</td>\n",
       "      <td>0.321643</td>\n",
       "      <td>130.521988</td>\n",
       "    </tr>\n",
       "    <tr>\n",
       "      <th>2</th>\n",
       "      <td>A2</td>\n",
       "      <td>67</td>\n",
       "      <td>0.359222</td>\n",
       "      <td>-0.022543</td>\n",
       "      <td>0</td>\n",
       "      <td>10.022872</td>\n",
       "      <td>-81.503211</td>\n",
       "    </tr>\n",
       "  </tbody>\n",
       "</table>\n",
       "</div>"
      ],
      "text/plain": [
       "    T   A         B         C   D          E           F\n",
       "1  A2  20  0.880275  2.522345 -15   0.321643  130.521988\n",
       "2  A2  67  0.359222 -0.022543   0  10.022872  -81.503211"
      ]
     },
     "execution_count": 196,
     "metadata": {},
     "output_type": "execute_result"
    }
   ],
   "source": [
    "# Concatenate the intersection of df1 and df4 along axis 2\n",
    "pd.concat([df1, df4], axis = 1, join = \"inner\")"
   ]
  },
  {
   "cell_type": "code",
   "execution_count": 195,
   "id": "b1b096f5-4e6b-4a27-b41f-1982943821a4",
   "metadata": {},
   "outputs": [
    {
     "data": {
      "text/html": [
       "<div>\n",
       "<style scoped>\n",
       "    .dataframe tbody tr th:only-of-type {\n",
       "        vertical-align: middle;\n",
       "    }\n",
       "\n",
       "    .dataframe tbody tr th {\n",
       "        vertical-align: top;\n",
       "    }\n",
       "\n",
       "    .dataframe thead th {\n",
       "        text-align: right;\n",
       "    }\n",
       "</style>\n",
       "<table border=\"1\" class=\"dataframe\">\n",
       "  <thead>\n",
       "    <tr style=\"text-align: right;\">\n",
       "      <th></th>\n",
       "      <th>T</th>\n",
       "      <th>A</th>\n",
       "      <th>B</th>\n",
       "      <th>C</th>\n",
       "      <th>D</th>\n",
       "      <th>E</th>\n",
       "      <th>F</th>\n",
       "    </tr>\n",
       "  </thead>\n",
       "  <tbody>\n",
       "    <tr>\n",
       "      <th>3</th>\n",
       "      <td>B1</td>\n",
       "      <td>3</td>\n",
       "      <td>1.964834</td>\n",
       "      <td>17.495099</td>\n",
       "      <td>7</td>\n",
       "      <td>2.786687</td>\n",
       "      <td>248.809833</td>\n",
       "    </tr>\n",
       "    <tr>\n",
       "      <th>5</th>\n",
       "      <td>B3</td>\n",
       "      <td>67</td>\n",
       "      <td>1.784727</td>\n",
       "      <td>36.293834</td>\n",
       "      <td>20</td>\n",
       "      <td>29.467086</td>\n",
       "      <td>-30.203732</td>\n",
       "    </tr>\n",
       "  </tbody>\n",
       "</table>\n",
       "</div>"
      ],
      "text/plain": [
       "    T   A         B          C   D          E           F\n",
       "3  B1   3  1.964834  17.495099   7   2.786687  248.809833\n",
       "5  B3  67  1.784727  36.293834  20  29.467086  -30.203732"
      ]
     },
     "execution_count": 195,
     "metadata": {},
     "output_type": "execute_result"
    }
   ],
   "source": [
    "# Concatenate the intersection of df2 and df4 along axis 2\n",
    "pd.concat([df2, df4], axis = 1, join = \"inner\")"
   ]
  },
  {
   "cell_type": "code",
   "execution_count": 215,
   "id": "bf32ffab-7374-4abb-a244-bcf828d630d5",
   "metadata": {},
   "outputs": [
    {
     "data": {
      "text/html": [
       "<div>\n",
       "<style scoped>\n",
       "    .dataframe tbody tr th:only-of-type {\n",
       "        vertical-align: middle;\n",
       "    }\n",
       "\n",
       "    .dataframe tbody tr th {\n",
       "        vertical-align: top;\n",
       "    }\n",
       "\n",
       "    .dataframe thead th {\n",
       "        text-align: right;\n",
       "    }\n",
       "</style>\n",
       "<table border=\"1\" class=\"dataframe\">\n",
       "  <thead>\n",
       "    <tr style=\"text-align: right;\">\n",
       "      <th></th>\n",
       "      <th>T</th>\n",
       "      <th>A</th>\n",
       "      <th>B</th>\n",
       "      <th>C</th>\n",
       "      <th>Exp</th>\n",
       "    </tr>\n",
       "  </thead>\n",
       "  <tbody>\n",
       "    <tr>\n",
       "      <th>3</th>\n",
       "      <td>B1</td>\n",
       "      <td>3</td>\n",
       "      <td>1.964834</td>\n",
       "      <td>17.495099</td>\n",
       "      <td>2.718282</td>\n",
       "    </tr>\n",
       "    <tr>\n",
       "      <th>4</th>\n",
       "      <td>B2</td>\n",
       "      <td>69</td>\n",
       "      <td>1.934187</td>\n",
       "      <td>-2.275329</td>\n",
       "      <td>20.085537</td>\n",
       "    </tr>\n",
       "    <tr>\n",
       "      <th>5</th>\n",
       "      <td>B3</td>\n",
       "      <td>67</td>\n",
       "      <td>1.784727</td>\n",
       "      <td>36.293834</td>\n",
       "      <td>148.413159</td>\n",
       "    </tr>\n",
       "  </tbody>\n",
       "</table>\n",
       "</div>"
      ],
      "text/plain": [
       "    T   A         B          C         Exp\n",
       "3  B1   3  1.964834  17.495099    2.718282\n",
       "4  B2  69  1.934187  -2.275329   20.085537\n",
       "5  B3  67  1.784727  36.293834  148.413159"
      ]
     },
     "execution_count": 215,
     "metadata": {},
     "output_type": "execute_result"
    }
   ],
   "source": [
    "# Append a new column into a dataframe with a series\n",
    "s = pd.Series(np.exp([1, 3, 5]), name = \"Exp\", index = df2.index)\n",
    "pd.concat([df2, s], axis = 1)"
   ]
  },
  {
   "cell_type": "code",
   "execution_count": 224,
   "id": "0e710fa9-04ff-4a83-9868-bd62fdd9a55c",
   "metadata": {},
   "outputs": [
    {
     "data": {
      "text/html": [
       "<div>\n",
       "<style scoped>\n",
       "    .dataframe tbody tr th:only-of-type {\n",
       "        vertical-align: middle;\n",
       "    }\n",
       "\n",
       "    .dataframe tbody tr th {\n",
       "        vertical-align: top;\n",
       "    }\n",
       "\n",
       "    .dataframe thead th {\n",
       "        text-align: right;\n",
       "    }\n",
       "</style>\n",
       "<table border=\"1\" class=\"dataframe\">\n",
       "  <thead>\n",
       "    <tr style=\"text-align: right;\">\n",
       "      <th></th>\n",
       "      <th>T</th>\n",
       "      <th>A</th>\n",
       "      <th>B</th>\n",
       "      <th>C</th>\n",
       "    </tr>\n",
       "  </thead>\n",
       "  <tbody>\n",
       "    <tr>\n",
       "      <th>0</th>\n",
       "      <td>B1</td>\n",
       "      <td>3</td>\n",
       "      <td>1.96483</td>\n",
       "      <td>17.4951</td>\n",
       "    </tr>\n",
       "    <tr>\n",
       "      <th>1</th>\n",
       "      <td>B2</td>\n",
       "      <td>69</td>\n",
       "      <td>1.93419</td>\n",
       "      <td>-2.27533</td>\n",
       "    </tr>\n",
       "    <tr>\n",
       "      <th>2</th>\n",
       "      <td>B3</td>\n",
       "      <td>67</td>\n",
       "      <td>1.78473</td>\n",
       "      <td>36.2938</td>\n",
       "    </tr>\n",
       "    <tr>\n",
       "      <th>3</th>\n",
       "      <td>C4</td>\n",
       "      <td>34</td>\n",
       "      <td>0.3308</td>\n",
       "      <td>0.732924</td>\n",
       "    </tr>\n",
       "  </tbody>\n",
       "</table>\n",
       "</div>"
      ],
      "text/plain": [
       "    T   A        B         C\n",
       "0  B1   3  1.96483   17.4951\n",
       "1  B2  69  1.93419  -2.27533\n",
       "2  B3  67  1.78473   36.2938\n",
       "3  C4  34   0.3308  0.732924"
      ]
     },
     "execution_count": 224,
     "metadata": {},
     "output_type": "execute_result"
    }
   ],
   "source": [
    "# Append a new row into a dataframe with a series\n",
    "s = pd.Series([\"C4\", 34, np.random.rand(), np.random.rand()],\n",
    "             index = [\"T\", \"A\", \"B\", \"C\"])\n",
    "pd.concat([df2, s.to_frame().T], ignore_index = True)"
   ]
  },
  {
   "cell_type": "markdown",
   "id": "ec1cee13-d446-4e60-83f0-3f2e6454a319",
   "metadata": {},
   "source": [
    "### Joining/Merging Dataframe"
   ]
  },
  {
   "cell_type": "code",
   "execution_count": 236,
   "id": "49bd4e40-a171-4eab-9ebd-d658168c09e2",
   "metadata": {},
   "outputs": [],
   "source": [
    "df5 = pd.DataFrame(\n",
    "    {\"T\": [\"A1\", \"A3\", \"B2\", \"B3\"],\n",
    "     \"D\": np.random.randint(-20, 50, 4),\n",
    "     \"E\": np.random.rand(4) * 30,\n",
    "     \"F\": np.random.randn(4) * 250\n",
    "    },\n",
    "    index=[1, 2, 3, 5],\n",
    ")"
   ]
  },
  {
   "cell_type": "code",
   "execution_count": 246,
   "id": "e0a090c8-e0e1-4715-bb70-513b758ad51e",
   "metadata": {},
   "outputs": [
    {
     "data": {
      "text/html": [
       "<div>\n",
       "<style scoped>\n",
       "    .dataframe tbody tr th:only-of-type {\n",
       "        vertical-align: middle;\n",
       "    }\n",
       "\n",
       "    .dataframe tbody tr th {\n",
       "        vertical-align: top;\n",
       "    }\n",
       "\n",
       "    .dataframe thead th {\n",
       "        text-align: right;\n",
       "    }\n",
       "</style>\n",
       "<table border=\"1\" class=\"dataframe\">\n",
       "  <thead>\n",
       "    <tr style=\"text-align: right;\">\n",
       "      <th></th>\n",
       "      <th>T</th>\n",
       "      <th>A</th>\n",
       "      <th>B</th>\n",
       "      <th>C</th>\n",
       "      <th>D</th>\n",
       "      <th>E</th>\n",
       "      <th>F</th>\n",
       "    </tr>\n",
       "  </thead>\n",
       "  <tbody>\n",
       "    <tr>\n",
       "      <th>0</th>\n",
       "      <td>A1</td>\n",
       "      <td>23</td>\n",
       "      <td>0.115986</td>\n",
       "      <td>1.144414</td>\n",
       "      <td>27</td>\n",
       "      <td>7.302773</td>\n",
       "      <td>104.277344</td>\n",
       "    </tr>\n",
       "    <tr>\n",
       "      <th>1</th>\n",
       "      <td>A3</td>\n",
       "      <td>58</td>\n",
       "      <td>0.374324</td>\n",
       "      <td>7.336329</td>\n",
       "      <td>10</td>\n",
       "      <td>11.498996</td>\n",
       "      <td>108.005265</td>\n",
       "    </tr>\n",
       "  </tbody>\n",
       "</table>\n",
       "</div>"
      ],
      "text/plain": [
       "    T   A         B         C   D          E           F\n",
       "0  A1  23  0.115986  1.144414  27   7.302773  104.277344\n",
       "1  A3  58  0.374324  7.336329  10  11.498996  108.005265"
      ]
     },
     "execution_count": 246,
     "metadata": {},
     "output_type": "execute_result"
    }
   ],
   "source": [
    "# Merge df1 and df5 on T\n",
    "pd.merge(df1, df5, on = \"T\")"
   ]
  },
  {
   "cell_type": "code",
   "execution_count": 248,
   "id": "ef641a22-4a8c-410e-af07-161ee5e95bc9",
   "metadata": {},
   "outputs": [
    {
     "data": {
      "text/html": [
       "<div>\n",
       "<style scoped>\n",
       "    .dataframe tbody tr th:only-of-type {\n",
       "        vertical-align: middle;\n",
       "    }\n",
       "\n",
       "    .dataframe tbody tr th {\n",
       "        vertical-align: top;\n",
       "    }\n",
       "\n",
       "    .dataframe thead th {\n",
       "        text-align: right;\n",
       "    }\n",
       "</style>\n",
       "<table border=\"1\" class=\"dataframe\">\n",
       "  <thead>\n",
       "    <tr style=\"text-align: right;\">\n",
       "      <th></th>\n",
       "      <th>T</th>\n",
       "      <th>A</th>\n",
       "      <th>B</th>\n",
       "      <th>C</th>\n",
       "      <th>D</th>\n",
       "      <th>E</th>\n",
       "      <th>F</th>\n",
       "    </tr>\n",
       "  </thead>\n",
       "  <tbody>\n",
       "    <tr>\n",
       "      <th>0</th>\n",
       "      <td>B2</td>\n",
       "      <td>57.0</td>\n",
       "      <td>0.905129</td>\n",
       "      <td>-11.545584</td>\n",
       "      <td>11</td>\n",
       "      <td>16.080034</td>\n",
       "      <td>243.709216</td>\n",
       "    </tr>\n",
       "    <tr>\n",
       "      <th>1</th>\n",
       "      <td>B3</td>\n",
       "      <td>17.0</td>\n",
       "      <td>1.527667</td>\n",
       "      <td>-1.520329</td>\n",
       "      <td>7</td>\n",
       "      <td>26.549970</td>\n",
       "      <td>-270.425708</td>\n",
       "    </tr>\n",
       "    <tr>\n",
       "      <th>2</th>\n",
       "      <td>A1</td>\n",
       "      <td>NaN</td>\n",
       "      <td>NaN</td>\n",
       "      <td>NaN</td>\n",
       "      <td>27</td>\n",
       "      <td>7.302773</td>\n",
       "      <td>104.277344</td>\n",
       "    </tr>\n",
       "    <tr>\n",
       "      <th>3</th>\n",
       "      <td>A3</td>\n",
       "      <td>NaN</td>\n",
       "      <td>NaN</td>\n",
       "      <td>NaN</td>\n",
       "      <td>10</td>\n",
       "      <td>11.498996</td>\n",
       "      <td>108.005265</td>\n",
       "    </tr>\n",
       "  </tbody>\n",
       "</table>\n",
       "</div>"
      ],
      "text/plain": [
       "    T     A         B          C   D          E           F\n",
       "0  B2  57.0  0.905129 -11.545584  11  16.080034  243.709216\n",
       "1  B3  17.0  1.527667  -1.520329   7  26.549970 -270.425708\n",
       "2  A1   NaN       NaN        NaN  27   7.302773  104.277344\n",
       "3  A3   NaN       NaN        NaN  10  11.498996  108.005265"
      ]
     },
     "execution_count": 248,
     "metadata": {},
     "output_type": "execute_result"
    }
   ],
   "source": [
    "# Merge df2 and df5 on T using right join\n",
    "pd.merge(df2, df5, on = \"T\", how = \"right\")"
   ]
  },
  {
   "cell_type": "code",
   "execution_count": 250,
   "id": "535fe25f-4930-47a1-98a5-f6d9b8738187",
   "metadata": {},
   "outputs": [
    {
     "data": {
      "text/html": [
       "<div>\n",
       "<style scoped>\n",
       "    .dataframe tbody tr th:only-of-type {\n",
       "        vertical-align: middle;\n",
       "    }\n",
       "\n",
       "    .dataframe tbody tr th {\n",
       "        vertical-align: top;\n",
       "    }\n",
       "\n",
       "    .dataframe thead th {\n",
       "        text-align: right;\n",
       "    }\n",
       "</style>\n",
       "<table border=\"1\" class=\"dataframe\">\n",
       "  <thead>\n",
       "    <tr style=\"text-align: right;\">\n",
       "      <th></th>\n",
       "      <th>T</th>\n",
       "      <th>A</th>\n",
       "      <th>B</th>\n",
       "      <th>C</th>\n",
       "      <th>D</th>\n",
       "      <th>E</th>\n",
       "      <th>F</th>\n",
       "    </tr>\n",
       "  </thead>\n",
       "  <tbody>\n",
       "    <tr>\n",
       "      <th>0</th>\n",
       "      <td>B1</td>\n",
       "      <td>47.0</td>\n",
       "      <td>0.821472</td>\n",
       "      <td>6.717648</td>\n",
       "      <td>NaN</td>\n",
       "      <td>NaN</td>\n",
       "      <td>NaN</td>\n",
       "    </tr>\n",
       "    <tr>\n",
       "      <th>1</th>\n",
       "      <td>B2</td>\n",
       "      <td>57.0</td>\n",
       "      <td>0.905129</td>\n",
       "      <td>-11.545584</td>\n",
       "      <td>11.0</td>\n",
       "      <td>16.080034</td>\n",
       "      <td>243.709216</td>\n",
       "    </tr>\n",
       "    <tr>\n",
       "      <th>2</th>\n",
       "      <td>B3</td>\n",
       "      <td>17.0</td>\n",
       "      <td>1.527667</td>\n",
       "      <td>-1.520329</td>\n",
       "      <td>7.0</td>\n",
       "      <td>26.549970</td>\n",
       "      <td>-270.425708</td>\n",
       "    </tr>\n",
       "    <tr>\n",
       "      <th>3</th>\n",
       "      <td>A1</td>\n",
       "      <td>NaN</td>\n",
       "      <td>NaN</td>\n",
       "      <td>NaN</td>\n",
       "      <td>27.0</td>\n",
       "      <td>7.302773</td>\n",
       "      <td>104.277344</td>\n",
       "    </tr>\n",
       "    <tr>\n",
       "      <th>4</th>\n",
       "      <td>A3</td>\n",
       "      <td>NaN</td>\n",
       "      <td>NaN</td>\n",
       "      <td>NaN</td>\n",
       "      <td>10.0</td>\n",
       "      <td>11.498996</td>\n",
       "      <td>108.005265</td>\n",
       "    </tr>\n",
       "  </tbody>\n",
       "</table>\n",
       "</div>"
      ],
      "text/plain": [
       "    T     A         B          C     D          E           F\n",
       "0  B1  47.0  0.821472   6.717648   NaN        NaN         NaN\n",
       "1  B2  57.0  0.905129 -11.545584  11.0  16.080034  243.709216\n",
       "2  B3  17.0  1.527667  -1.520329   7.0  26.549970 -270.425708\n",
       "3  A1   NaN       NaN        NaN  27.0   7.302773  104.277344\n",
       "4  A3   NaN       NaN        NaN  10.0  11.498996  108.005265"
      ]
     },
     "execution_count": 250,
     "metadata": {},
     "output_type": "execute_result"
    }
   ],
   "source": [
    "# Merge df2 and df5 on T using outer join\n",
    "pd.merge(df2, df5, on = \"T\", how = \"outer\")"
   ]
  },
  {
   "cell_type": "code",
   "execution_count": 251,
   "id": "2261b476-b88c-4cfb-a47f-c63ee760cad0",
   "metadata": {},
   "outputs": [
    {
     "data": {
      "text/html": [
       "<div>\n",
       "<style scoped>\n",
       "    .dataframe tbody tr th:only-of-type {\n",
       "        vertical-align: middle;\n",
       "    }\n",
       "\n",
       "    .dataframe tbody tr th {\n",
       "        vertical-align: top;\n",
       "    }\n",
       "\n",
       "    .dataframe thead th {\n",
       "        text-align: right;\n",
       "    }\n",
       "</style>\n",
       "<table border=\"1\" class=\"dataframe\">\n",
       "  <thead>\n",
       "    <tr style=\"text-align: right;\">\n",
       "      <th></th>\n",
       "      <th>T</th>\n",
       "      <th>A</th>\n",
       "      <th>B</th>\n",
       "      <th>C</th>\n",
       "      <th>D</th>\n",
       "      <th>E</th>\n",
       "      <th>F</th>\n",
       "    </tr>\n",
       "  </thead>\n",
       "  <tbody>\n",
       "    <tr>\n",
       "      <th>0</th>\n",
       "      <td>B2</td>\n",
       "      <td>57</td>\n",
       "      <td>0.905129</td>\n",
       "      <td>-11.545584</td>\n",
       "      <td>11</td>\n",
       "      <td>16.080034</td>\n",
       "      <td>243.709216</td>\n",
       "    </tr>\n",
       "    <tr>\n",
       "      <th>1</th>\n",
       "      <td>B3</td>\n",
       "      <td>17</td>\n",
       "      <td>1.527667</td>\n",
       "      <td>-1.520329</td>\n",
       "      <td>7</td>\n",
       "      <td>26.549970</td>\n",
       "      <td>-270.425708</td>\n",
       "    </tr>\n",
       "  </tbody>\n",
       "</table>\n",
       "</div>"
      ],
      "text/plain": [
       "    T   A         B          C   D          E           F\n",
       "0  B2  57  0.905129 -11.545584  11  16.080034  243.709216\n",
       "1  B3  17  1.527667  -1.520329   7  26.549970 -270.425708"
      ]
     },
     "execution_count": 251,
     "metadata": {},
     "output_type": "execute_result"
    }
   ],
   "source": [
    "# Merge df2 and df5 on T using inner join\n",
    "pd.merge(df2, df5, on = \"T\", how = \"inner\")"
   ]
  },
  {
   "cell_type": "markdown",
   "id": "f1ba0b76-3b81-499c-9c0f-d332c959f0ea",
   "metadata": {},
   "source": [
    "### Group by - Split, Apply, Combine\n",
    "\n",
    "\"Group by\" refers to a process involving one or more of the following steps:\n",
    "* **Splitting** the data into groups based on some criteria.\n",
    "* **Applying** a function to each group independently.\n",
    "  * Aggregating to compute summary statistics for each group\n",
    "  * Transforming group-specific values\n",
    "  * Filtering according to a group-wise logical evaluation\n",
    "* **Combining** the results into a data structure."
   ]
  },
  {
   "cell_type": "code",
   "execution_count": 372,
   "id": "7e0dbe67-ea62-4bcf-9fa9-20ca19901e52",
   "metadata": {},
   "outputs": [
    {
     "data": {
      "text/html": [
       "<div>\n",
       "<style scoped>\n",
       "    .dataframe tbody tr th:only-of-type {\n",
       "        vertical-align: middle;\n",
       "    }\n",
       "\n",
       "    .dataframe tbody tr th {\n",
       "        vertical-align: top;\n",
       "    }\n",
       "\n",
       "    .dataframe thead th {\n",
       "        text-align: right;\n",
       "    }\n",
       "</style>\n",
       "<table border=\"1\" class=\"dataframe\">\n",
       "  <thead>\n",
       "    <tr style=\"text-align: right;\">\n",
       "      <th></th>\n",
       "      <th>Date</th>\n",
       "      <th>A</th>\n",
       "      <th>B</th>\n",
       "      <th>CA</th>\n",
       "      <th>SB</th>\n",
       "    </tr>\n",
       "  </thead>\n",
       "  <tbody>\n",
       "    <tr>\n",
       "      <th>0</th>\n",
       "      <td>1999-10-01</td>\n",
       "      <td>DKJ1</td>\n",
       "      <td>A</td>\n",
       "      <td>58.763960</td>\n",
       "      <td>280</td>\n",
       "    </tr>\n",
       "    <tr>\n",
       "      <th>1</th>\n",
       "      <td>1999-10-02</td>\n",
       "      <td>DKJ1</td>\n",
       "      <td>A</td>\n",
       "      <td>97.153670</td>\n",
       "      <td>374</td>\n",
       "    </tr>\n",
       "    <tr>\n",
       "      <th>2</th>\n",
       "      <td>1999-10-03</td>\n",
       "      <td>DKJ1</td>\n",
       "      <td>A</td>\n",
       "      <td>67.529809</td>\n",
       "      <td>268</td>\n",
       "    </tr>\n",
       "    <tr>\n",
       "      <th>3</th>\n",
       "      <td>1999-10-04</td>\n",
       "      <td>DKJ1</td>\n",
       "      <td>A</td>\n",
       "      <td>74.519511</td>\n",
       "      <td>428</td>\n",
       "    </tr>\n",
       "    <tr>\n",
       "      <th>4</th>\n",
       "      <td>1999-10-05</td>\n",
       "      <td>DKJ1</td>\n",
       "      <td>A</td>\n",
       "      <td>71.252170</td>\n",
       "      <td>385</td>\n",
       "    </tr>\n",
       "    <tr>\n",
       "      <th>...</th>\n",
       "      <td>...</td>\n",
       "      <td>...</td>\n",
       "      <td>...</td>\n",
       "      <td>...</td>\n",
       "      <td>...</td>\n",
       "    </tr>\n",
       "    <tr>\n",
       "      <th>995</th>\n",
       "      <td>2002-06-22</td>\n",
       "      <td>AWA2</td>\n",
       "      <td>D</td>\n",
       "      <td>68.297654</td>\n",
       "      <td>431</td>\n",
       "    </tr>\n",
       "    <tr>\n",
       "      <th>996</th>\n",
       "      <td>2002-06-23</td>\n",
       "      <td>AWA2</td>\n",
       "      <td>D</td>\n",
       "      <td>76.755207</td>\n",
       "      <td>416</td>\n",
       "    </tr>\n",
       "    <tr>\n",
       "      <th>997</th>\n",
       "      <td>2002-06-24</td>\n",
       "      <td>AWA2</td>\n",
       "      <td>D</td>\n",
       "      <td>76.430772</td>\n",
       "      <td>273</td>\n",
       "    </tr>\n",
       "    <tr>\n",
       "      <th>998</th>\n",
       "      <td>2002-06-25</td>\n",
       "      <td>AWA2</td>\n",
       "      <td>D</td>\n",
       "      <td>56.944889</td>\n",
       "      <td>356</td>\n",
       "    </tr>\n",
       "    <tr>\n",
       "      <th>999</th>\n",
       "      <td>2002-06-26</td>\n",
       "      <td>AWA2</td>\n",
       "      <td>D</td>\n",
       "      <td>69.531703</td>\n",
       "      <td>434</td>\n",
       "    </tr>\n",
       "  </tbody>\n",
       "</table>\n",
       "<p>1000 rows × 5 columns</p>\n",
       "</div>"
      ],
      "text/plain": [
       "          Date     A  B         CA   SB\n",
       "0   1999-10-01  DKJ1  A  58.763960  280\n",
       "1   1999-10-02  DKJ1  A  97.153670  374\n",
       "2   1999-10-03  DKJ1  A  67.529809  268\n",
       "3   1999-10-04  DKJ1  A  74.519511  428\n",
       "4   1999-10-05  DKJ1  A  71.252170  385\n",
       "..         ...   ... ..        ...  ...\n",
       "995 2002-06-22  AWA2  D  68.297654  431\n",
       "996 2002-06-23  AWA2  D  76.755207  416\n",
       "997 2002-06-24  AWA2  D  76.430772  273\n",
       "998 2002-06-25  AWA2  D  56.944889  356\n",
       "999 2002-06-26  AWA2  D  69.531703  434\n",
       "\n",
       "[1000 rows x 5 columns]"
      ]
     },
     "execution_count": 372,
     "metadata": {},
     "output_type": "execute_result"
    }
   ],
   "source": [
    "# Prepare dataset to work with\n",
    "df = pd.DataFrame(\n",
    "    [(\"bird\", \"Falconiformes\", 389.0),\n",
    "     (\"bird\", \"Psittaciformes\", 24.0),\n",
    "     (\"mammal\", \"Carnivora\", 80.2),\n",
    "     (\"mammal\", \"Primates\", np.nan),\n",
    "     (\"mammal\", \"Carnivora\", 58),\n",
    "    ],\n",
    "    index=[\"falcon\", \"parrot\", \"lion\", \"monkey\", \"leopard\"],\n",
    "    columns=(\"class\", \"order\", \"max_speed\"),\n",
    ")\n",
    "df\n",
    "\n",
    "d = {\n",
    "    \"Date\": pd.date_range(\"10/1/1999\", periods=1000),\n",
    "    \"A\": np.repeat([\"DKJ1\", \"AWA2\"], 500),\n",
    "    \"B\": np.repeat([\"A\", \"B\", \"C\", \"D\"], 250),\n",
    "    \"CA\": np.random.normal(75, 15, 1000),\n",
    "    \"SB\": np.random.randint(250, 500, 1000)\n",
    "}\n",
    "\n",
    "df = pd.DataFrame(d)\n",
    "df"
   ]
  },
  {
   "cell_type": "code",
   "execution_count": 374,
   "id": "3c5f8b81-9c2b-4a9b-8d99-d34df3a37523",
   "metadata": {},
   "outputs": [
    {
     "data": {
      "text/plain": [
       "(<pandas.core.groupby.generic.DataFrameGroupBy object at 0x0000021BA325E048>,\n",
       " <pandas.core.groupby.generic.DataFrameGroupBy object at 0x0000021BA2FE9F08>,\n",
       " <pandas.core.groupby.generic.DataFrameGroupBy object at 0x0000021BA2FE9EC8>)"
      ]
     },
     "execution_count": 374,
     "metadata": {},
     "output_type": "execute_result"
    }
   ],
   "source": [
    "df.groupby(\"A\"), df.groupby(\"B\"), df.groupby(\"Date\")"
   ]
  },
  {
   "cell_type": "code",
   "execution_count": 375,
   "id": "ed3596aa-df09-4b47-86c0-fb2c0a88770c",
   "metadata": {},
   "outputs": [
    {
     "data": {
      "text/html": [
       "<div>\n",
       "<style scoped>\n",
       "    .dataframe tbody tr th:only-of-type {\n",
       "        vertical-align: middle;\n",
       "    }\n",
       "\n",
       "    .dataframe tbody tr th {\n",
       "        vertical-align: top;\n",
       "    }\n",
       "\n",
       "    .dataframe thead th {\n",
       "        text-align: right;\n",
       "    }\n",
       "</style>\n",
       "<table border=\"1\" class=\"dataframe\">\n",
       "  <thead>\n",
       "    <tr style=\"text-align: right;\">\n",
       "      <th></th>\n",
       "      <th>Date</th>\n",
       "      <th>A</th>\n",
       "      <th>CA</th>\n",
       "      <th>SB</th>\n",
       "    </tr>\n",
       "    <tr>\n",
       "      <th>B</th>\n",
       "      <th></th>\n",
       "      <th></th>\n",
       "      <th></th>\n",
       "      <th></th>\n",
       "    </tr>\n",
       "  </thead>\n",
       "  <tbody>\n",
       "    <tr>\n",
       "      <th>A</th>\n",
       "      <td>1999-10-01</td>\n",
       "      <td>DKJ1</td>\n",
       "      <td>33.560788</td>\n",
       "      <td>250</td>\n",
       "    </tr>\n",
       "    <tr>\n",
       "      <th>B</th>\n",
       "      <td>2000-06-07</td>\n",
       "      <td>DKJ1</td>\n",
       "      <td>31.976572</td>\n",
       "      <td>250</td>\n",
       "    </tr>\n",
       "    <tr>\n",
       "      <th>C</th>\n",
       "      <td>2001-02-12</td>\n",
       "      <td>AWA2</td>\n",
       "      <td>37.823696</td>\n",
       "      <td>251</td>\n",
       "    </tr>\n",
       "    <tr>\n",
       "      <th>D</th>\n",
       "      <td>2001-10-20</td>\n",
       "      <td>AWA2</td>\n",
       "      <td>35.132579</td>\n",
       "      <td>252</td>\n",
       "    </tr>\n",
       "  </tbody>\n",
       "</table>\n",
       "</div>"
      ],
      "text/plain": [
       "        Date     A         CA   SB\n",
       "B                                 \n",
       "A 1999-10-01  DKJ1  33.560788  250\n",
       "B 2000-06-07  DKJ1  31.976572  250\n",
       "C 2001-02-12  AWA2  37.823696  251\n",
       "D 2001-10-20  AWA2  35.132579  252"
      ]
     },
     "execution_count": 375,
     "metadata": {},
     "output_type": "execute_result"
    }
   ],
   "source": [
    "# Find slowest speed for each class\n",
    "df.groupby(\"B\").min()"
   ]
  },
  {
   "cell_type": "code",
   "execution_count": 378,
   "id": "c0f0bd6f-7bf7-4f1a-92a7-9804a5e59a12",
   "metadata": {},
   "outputs": [
    {
     "data": {
      "text/html": [
       "<div>\n",
       "<style scoped>\n",
       "    .dataframe tbody tr th:only-of-type {\n",
       "        vertical-align: middle;\n",
       "    }\n",
       "\n",
       "    .dataframe tbody tr th {\n",
       "        vertical-align: top;\n",
       "    }\n",
       "\n",
       "    .dataframe thead th {\n",
       "        text-align: right;\n",
       "    }\n",
       "</style>\n",
       "<table border=\"1\" class=\"dataframe\">\n",
       "  <thead>\n",
       "    <tr style=\"text-align: right;\">\n",
       "      <th></th>\n",
       "      <th>Date</th>\n",
       "      <th>A</th>\n",
       "      <th>B</th>\n",
       "      <th>CA</th>\n",
       "      <th>SB</th>\n",
       "    </tr>\n",
       "  </thead>\n",
       "  <tbody>\n",
       "    <tr>\n",
       "      <th>500</th>\n",
       "      <td>2001-02-12</td>\n",
       "      <td>AWA2</td>\n",
       "      <td>C</td>\n",
       "      <td>71.238408</td>\n",
       "      <td>432</td>\n",
       "    </tr>\n",
       "    <tr>\n",
       "      <th>501</th>\n",
       "      <td>2001-02-13</td>\n",
       "      <td>AWA2</td>\n",
       "      <td>C</td>\n",
       "      <td>72.348390</td>\n",
       "      <td>361</td>\n",
       "    </tr>\n",
       "    <tr>\n",
       "      <th>502</th>\n",
       "      <td>2001-02-14</td>\n",
       "      <td>AWA2</td>\n",
       "      <td>C</td>\n",
       "      <td>65.447803</td>\n",
       "      <td>308</td>\n",
       "    </tr>\n",
       "    <tr>\n",
       "      <th>503</th>\n",
       "      <td>2001-02-15</td>\n",
       "      <td>AWA2</td>\n",
       "      <td>C</td>\n",
       "      <td>68.410352</td>\n",
       "      <td>251</td>\n",
       "    </tr>\n",
       "    <tr>\n",
       "      <th>504</th>\n",
       "      <td>2001-02-16</td>\n",
       "      <td>AWA2</td>\n",
       "      <td>C</td>\n",
       "      <td>62.633915</td>\n",
       "      <td>399</td>\n",
       "    </tr>\n",
       "    <tr>\n",
       "      <th>...</th>\n",
       "      <td>...</td>\n",
       "      <td>...</td>\n",
       "      <td>...</td>\n",
       "      <td>...</td>\n",
       "      <td>...</td>\n",
       "    </tr>\n",
       "    <tr>\n",
       "      <th>995</th>\n",
       "      <td>2002-06-22</td>\n",
       "      <td>AWA2</td>\n",
       "      <td>D</td>\n",
       "      <td>68.297654</td>\n",
       "      <td>431</td>\n",
       "    </tr>\n",
       "    <tr>\n",
       "      <th>996</th>\n",
       "      <td>2002-06-23</td>\n",
       "      <td>AWA2</td>\n",
       "      <td>D</td>\n",
       "      <td>76.755207</td>\n",
       "      <td>416</td>\n",
       "    </tr>\n",
       "    <tr>\n",
       "      <th>997</th>\n",
       "      <td>2002-06-24</td>\n",
       "      <td>AWA2</td>\n",
       "      <td>D</td>\n",
       "      <td>76.430772</td>\n",
       "      <td>273</td>\n",
       "    </tr>\n",
       "    <tr>\n",
       "      <th>998</th>\n",
       "      <td>2002-06-25</td>\n",
       "      <td>AWA2</td>\n",
       "      <td>D</td>\n",
       "      <td>56.944889</td>\n",
       "      <td>356</td>\n",
       "    </tr>\n",
       "    <tr>\n",
       "      <th>999</th>\n",
       "      <td>2002-06-26</td>\n",
       "      <td>AWA2</td>\n",
       "      <td>D</td>\n",
       "      <td>69.531703</td>\n",
       "      <td>434</td>\n",
       "    </tr>\n",
       "  </tbody>\n",
       "</table>\n",
       "<p>500 rows × 5 columns</p>\n",
       "</div>"
      ],
      "text/plain": [
       "          Date     A  B         CA   SB\n",
       "500 2001-02-12  AWA2  C  71.238408  432\n",
       "501 2001-02-13  AWA2  C  72.348390  361\n",
       "502 2001-02-14  AWA2  C  65.447803  308\n",
       "503 2001-02-15  AWA2  C  68.410352  251\n",
       "504 2001-02-16  AWA2  C  62.633915  399\n",
       "..         ...   ... ..        ...  ...\n",
       "995 2002-06-22  AWA2  D  68.297654  431\n",
       "996 2002-06-23  AWA2  D  76.755207  416\n",
       "997 2002-06-24  AWA2  D  76.430772  273\n",
       "998 2002-06-25  AWA2  D  56.944889  356\n",
       "999 2002-06-26  AWA2  D  69.531703  434\n",
       "\n",
       "[500 rows x 5 columns]"
      ]
     },
     "execution_count": 378,
     "metadata": {},
     "output_type": "execute_result"
    }
   ],
   "source": [
    "# Filter for bird\n",
    "df.groupby(\"A\").get_group(\"AWA2\")"
   ]
  },
  {
   "cell_type": "code",
   "execution_count": 379,
   "id": "c8b34aee-6018-461a-b0c9-bb6dbfdb43fe",
   "metadata": {
    "tags": []
   },
   "outputs": [
    {
     "data": {
      "text/html": [
       "<div>\n",
       "<style scoped>\n",
       "    .dataframe tbody tr th:only-of-type {\n",
       "        vertical-align: middle;\n",
       "    }\n",
       "\n",
       "    .dataframe tbody tr th {\n",
       "        vertical-align: top;\n",
       "    }\n",
       "\n",
       "    .dataframe thead tr th {\n",
       "        text-align: left;\n",
       "    }\n",
       "\n",
       "    .dataframe thead tr:last-of-type th {\n",
       "        text-align: right;\n",
       "    }\n",
       "</style>\n",
       "<table border=\"1\" class=\"dataframe\">\n",
       "  <thead>\n",
       "    <tr>\n",
       "      <th></th>\n",
       "      <th colspan=\"3\" halign=\"left\">CA</th>\n",
       "      <th colspan=\"3\" halign=\"left\">SB</th>\n",
       "    </tr>\n",
       "    <tr>\n",
       "      <th></th>\n",
       "      <th>sum</th>\n",
       "      <th>mean</th>\n",
       "      <th>std</th>\n",
       "      <th>sum</th>\n",
       "      <th>mean</th>\n",
       "      <th>std</th>\n",
       "    </tr>\n",
       "    <tr>\n",
       "      <th>A</th>\n",
       "      <th></th>\n",
       "      <th></th>\n",
       "      <th></th>\n",
       "      <th></th>\n",
       "      <th></th>\n",
       "      <th></th>\n",
       "    </tr>\n",
       "  </thead>\n",
       "  <tbody>\n",
       "    <tr>\n",
       "      <th>AWA2</th>\n",
       "      <td>37838.35707</td>\n",
       "      <td>75.676714</td>\n",
       "      <td>15.837969</td>\n",
       "      <td>184567</td>\n",
       "      <td>369.134</td>\n",
       "      <td>71.348843</td>\n",
       "    </tr>\n",
       "    <tr>\n",
       "      <th>DKJ1</th>\n",
       "      <td>36920.70733</td>\n",
       "      <td>73.841415</td>\n",
       "      <td>14.800840</td>\n",
       "      <td>187018</td>\n",
       "      <td>374.036</td>\n",
       "      <td>70.284668</td>\n",
       "    </tr>\n",
       "  </tbody>\n",
       "</table>\n",
       "</div>"
      ],
      "text/plain": [
       "               CA                            SB                    \n",
       "              sum       mean        std     sum     mean        std\n",
       "A                                                                  \n",
       "AWA2  37838.35707  75.676714  15.837969  184567  369.134  71.348843\n",
       "DKJ1  36920.70733  73.841415  14.800840  187018  374.036  70.284668"
      ]
     },
     "execution_count": 379,
     "metadata": {},
     "output_type": "execute_result"
    }
   ],
   "source": [
    "# Perform aggregation (compute a summary statistic)\n",
    "df.groupby(\"A\").aggregate([np.sum, np.mean, np.std])"
   ]
  },
  {
   "cell_type": "code",
   "execution_count": 380,
   "id": "3a372710-7661-4050-983c-b9a9c12a9aa6",
   "metadata": {},
   "outputs": [
    {
     "data": {
      "text/html": [
       "<div>\n",
       "<style scoped>\n",
       "    .dataframe tbody tr th:only-of-type {\n",
       "        vertical-align: middle;\n",
       "    }\n",
       "\n",
       "    .dataframe tbody tr th {\n",
       "        vertical-align: top;\n",
       "    }\n",
       "\n",
       "    .dataframe thead th {\n",
       "        text-align: right;\n",
       "    }\n",
       "</style>\n",
       "<table border=\"1\" class=\"dataframe\">\n",
       "  <thead>\n",
       "    <tr style=\"text-align: right;\">\n",
       "      <th></th>\n",
       "      <th>CA</th>\n",
       "      <th>SB</th>\n",
       "    </tr>\n",
       "  </thead>\n",
       "  <tbody>\n",
       "    <tr>\n",
       "      <th>0</th>\n",
       "      <td>-1.022963</td>\n",
       "      <td>-1.266659</td>\n",
       "    </tr>\n",
       "    <tr>\n",
       "      <th>1</th>\n",
       "      <td>1.542507</td>\n",
       "      <td>0.057709</td>\n",
       "    </tr>\n",
       "    <tr>\n",
       "      <th>2</th>\n",
       "      <td>-0.437167</td>\n",
       "      <td>-1.435727</td>\n",
       "    </tr>\n",
       "    <tr>\n",
       "      <th>3</th>\n",
       "      <td>0.029933</td>\n",
       "      <td>0.818515</td>\n",
       "    </tr>\n",
       "    <tr>\n",
       "      <th>4</th>\n",
       "      <td>-0.188413</td>\n",
       "      <td>0.212688</td>\n",
       "    </tr>\n",
       "    <tr>\n",
       "      <th>...</th>\n",
       "      <td>...</td>\n",
       "      <td>...</td>\n",
       "    </tr>\n",
       "    <tr>\n",
       "      <th>995</th>\n",
       "      <td>-0.496024</td>\n",
       "      <td>0.822318</td>\n",
       "    </tr>\n",
       "    <tr>\n",
       "      <th>996</th>\n",
       "      <td>0.023956</td>\n",
       "      <td>0.620888</td>\n",
       "    </tr>\n",
       "    <tr>\n",
       "      <th>997</th>\n",
       "      <td>0.004010</td>\n",
       "      <td>-1.299412</td>\n",
       "    </tr>\n",
       "    <tr>\n",
       "      <th>998</th>\n",
       "      <td>-1.194005</td>\n",
       "      <td>-0.184832</td>\n",
       "    </tr>\n",
       "    <tr>\n",
       "      <th>999</th>\n",
       "      <td>-0.420153</td>\n",
       "      <td>0.862604</td>\n",
       "    </tr>\n",
       "  </tbody>\n",
       "</table>\n",
       "<p>1000 rows × 2 columns</p>\n",
       "</div>"
      ],
      "text/plain": [
       "           CA        SB\n",
       "0   -1.022963 -1.266659\n",
       "1    1.542507  0.057709\n",
       "2   -0.437167 -1.435727\n",
       "3    0.029933  0.818515\n",
       "4   -0.188413  0.212688\n",
       "..        ...       ...\n",
       "995 -0.496024  0.822318\n",
       "996  0.023956  0.620888\n",
       "997  0.004010 -1.299412\n",
       "998 -1.194005 -0.184832\n",
       "999 -0.420153  0.862604\n",
       "\n",
       "[1000 rows x 2 columns]"
      ]
     },
     "execution_count": 380,
     "metadata": {},
     "output_type": "execute_result"
    }
   ],
   "source": [
    "# Perform transofrmation\n",
    "df.groupby(\"B\").transform(lambda x: (x - x.mean()) / x.std())"
   ]
  },
  {
   "cell_type": "code",
   "execution_count": 387,
   "id": "34da5a61-93af-4831-b10f-29686a898ea3",
   "metadata": {},
   "outputs": [
    {
     "data": {
      "text/html": [
       "<div>\n",
       "<style scoped>\n",
       "    .dataframe tbody tr th:only-of-type {\n",
       "        vertical-align: middle;\n",
       "    }\n",
       "\n",
       "    .dataframe tbody tr th {\n",
       "        vertical-align: top;\n",
       "    }\n",
       "\n",
       "    .dataframe thead th {\n",
       "        text-align: right;\n",
       "    }\n",
       "</style>\n",
       "<table border=\"1\" class=\"dataframe\">\n",
       "  <thead>\n",
       "    <tr style=\"text-align: right;\">\n",
       "      <th></th>\n",
       "      <th>Date</th>\n",
       "      <th>A</th>\n",
       "      <th>B</th>\n",
       "      <th>CA</th>\n",
       "      <th>SB</th>\n",
       "    </tr>\n",
       "  </thead>\n",
       "  <tbody>\n",
       "    <tr>\n",
       "      <th>250</th>\n",
       "      <td>2000-06-07</td>\n",
       "      <td>DKJ1</td>\n",
       "      <td>B</td>\n",
       "      <td>41.738105</td>\n",
       "      <td>350</td>\n",
       "    </tr>\n",
       "    <tr>\n",
       "      <th>251</th>\n",
       "      <td>2000-06-08</td>\n",
       "      <td>DKJ1</td>\n",
       "      <td>B</td>\n",
       "      <td>84.155505</td>\n",
       "      <td>297</td>\n",
       "    </tr>\n",
       "    <tr>\n",
       "      <th>252</th>\n",
       "      <td>2000-06-09</td>\n",
       "      <td>DKJ1</td>\n",
       "      <td>B</td>\n",
       "      <td>93.018432</td>\n",
       "      <td>256</td>\n",
       "    </tr>\n",
       "    <tr>\n",
       "      <th>253</th>\n",
       "      <td>2000-06-10</td>\n",
       "      <td>DKJ1</td>\n",
       "      <td>B</td>\n",
       "      <td>81.734554</td>\n",
       "      <td>322</td>\n",
       "    </tr>\n",
       "    <tr>\n",
       "      <th>254</th>\n",
       "      <td>2000-06-11</td>\n",
       "      <td>DKJ1</td>\n",
       "      <td>B</td>\n",
       "      <td>79.616030</td>\n",
       "      <td>278</td>\n",
       "    </tr>\n",
       "    <tr>\n",
       "      <th>...</th>\n",
       "      <td>...</td>\n",
       "      <td>...</td>\n",
       "      <td>...</td>\n",
       "      <td>...</td>\n",
       "      <td>...</td>\n",
       "    </tr>\n",
       "    <tr>\n",
       "      <th>495</th>\n",
       "      <td>2001-02-07</td>\n",
       "      <td>DKJ1</td>\n",
       "      <td>B</td>\n",
       "      <td>71.101740</td>\n",
       "      <td>351</td>\n",
       "    </tr>\n",
       "    <tr>\n",
       "      <th>496</th>\n",
       "      <td>2001-02-08</td>\n",
       "      <td>DKJ1</td>\n",
       "      <td>B</td>\n",
       "      <td>31.976572</td>\n",
       "      <td>281</td>\n",
       "    </tr>\n",
       "    <tr>\n",
       "      <th>497</th>\n",
       "      <td>2001-02-09</td>\n",
       "      <td>DKJ1</td>\n",
       "      <td>B</td>\n",
       "      <td>54.270213</td>\n",
       "      <td>369</td>\n",
       "    </tr>\n",
       "    <tr>\n",
       "      <th>498</th>\n",
       "      <td>2001-02-10</td>\n",
       "      <td>DKJ1</td>\n",
       "      <td>B</td>\n",
       "      <td>64.943841</td>\n",
       "      <td>262</td>\n",
       "    </tr>\n",
       "    <tr>\n",
       "      <th>499</th>\n",
       "      <td>2001-02-11</td>\n",
       "      <td>DKJ1</td>\n",
       "      <td>B</td>\n",
       "      <td>77.618444</td>\n",
       "      <td>446</td>\n",
       "    </tr>\n",
       "  </tbody>\n",
       "</table>\n",
       "<p>250 rows × 5 columns</p>\n",
       "</div>"
      ],
      "text/plain": [
       "          Date     A  B         CA   SB\n",
       "250 2000-06-07  DKJ1  B  41.738105  350\n",
       "251 2000-06-08  DKJ1  B  84.155505  297\n",
       "252 2000-06-09  DKJ1  B  93.018432  256\n",
       "253 2000-06-10  DKJ1  B  81.734554  322\n",
       "254 2000-06-11  DKJ1  B  79.616030  278\n",
       "..         ...   ... ..        ...  ...\n",
       "495 2001-02-07  DKJ1  B  71.101740  351\n",
       "496 2001-02-08  DKJ1  B  31.976572  281\n",
       "497 2001-02-09  DKJ1  B  54.270213  369\n",
       "498 2001-02-10  DKJ1  B  64.943841  262\n",
       "499 2001-02-11  DKJ1  B  77.618444  446\n",
       "\n",
       "[250 rows x 5 columns]"
      ]
     },
     "execution_count": 387,
     "metadata": {},
     "output_type": "execute_result"
    }
   ],
   "source": [
    "# Perform filtration\n",
    "df.groupby(\"B\").filter(lambda x: x[\"SB\"].sum() > 92500)"
   ]
  },
  {
   "cell_type": "code",
   "execution_count": 388,
   "id": "a8f3f469-4563-4d91-b3d0-5bd37a922a8a",
   "metadata": {},
   "outputs": [
    {
     "data": {
      "text/html": [
       "<div>\n",
       "<style scoped>\n",
       "    .dataframe tbody tr th:only-of-type {\n",
       "        vertical-align: middle;\n",
       "    }\n",
       "\n",
       "    .dataframe tbody tr th {\n",
       "        vertical-align: top;\n",
       "    }\n",
       "\n",
       "    .dataframe thead th {\n",
       "        text-align: right;\n",
       "    }\n",
       "</style>\n",
       "<table border=\"1\" class=\"dataframe\">\n",
       "  <thead>\n",
       "    <tr style=\"text-align: right;\">\n",
       "      <th></th>\n",
       "      <th>Date</th>\n",
       "      <th>A</th>\n",
       "      <th>B</th>\n",
       "      <th>CA</th>\n",
       "      <th>SB</th>\n",
       "    </tr>\n",
       "    <tr>\n",
       "      <th>A</th>\n",
       "      <th></th>\n",
       "      <th></th>\n",
       "      <th></th>\n",
       "      <th></th>\n",
       "      <th></th>\n",
       "    </tr>\n",
       "  </thead>\n",
       "  <tbody>\n",
       "    <tr>\n",
       "      <th>AWA2</th>\n",
       "      <td>2001-02-12</td>\n",
       "      <td>AWA2</td>\n",
       "      <td>C</td>\n",
       "      <td>35.132579</td>\n",
       "      <td>251</td>\n",
       "    </tr>\n",
       "    <tr>\n",
       "      <th>DKJ1</th>\n",
       "      <td>1999-10-01</td>\n",
       "      <td>DKJ1</td>\n",
       "      <td>A</td>\n",
       "      <td>31.976572</td>\n",
       "      <td>250</td>\n",
       "    </tr>\n",
       "  </tbody>\n",
       "</table>\n",
       "</div>"
      ],
      "text/plain": [
       "           Date     A  B         CA   SB\n",
       "A                                       \n",
       "AWA2 2001-02-12  AWA2  C  35.132579  251\n",
       "DKJ1 1999-10-01  DKJ1  A  31.976572  250"
      ]
     },
     "execution_count": 388,
     "metadata": {},
     "output_type": "execute_result"
    }
   ],
   "source": [
    "# Use apply for more flexible operations\n",
    "df.dropna().groupby(\"A\").apply(lambda x: x.min())"
   ]
  },
  {
   "cell_type": "code",
   "execution_count": null,
   "id": "58abcbeb-8914-48f5-81c0-8fdb8a713545",
   "metadata": {},
   "outputs": [],
   "source": []
  }
 ],
 "metadata": {
  "kernelspec": {
   "display_name": "Python [conda env:ai_engineering_course]",
   "language": "python",
   "name": "conda-env-ai_engineering_course-py"
  },
  "language_info": {
   "codemirror_mode": {
    "name": "ipython",
    "version": 3
   },
   "file_extension": ".py",
   "mimetype": "text/x-python",
   "name": "python",
   "nbconvert_exporter": "python",
   "pygments_lexer": "ipython3",
   "version": "3.7.6"
  }
 },
 "nbformat": 4,
 "nbformat_minor": 5
}
