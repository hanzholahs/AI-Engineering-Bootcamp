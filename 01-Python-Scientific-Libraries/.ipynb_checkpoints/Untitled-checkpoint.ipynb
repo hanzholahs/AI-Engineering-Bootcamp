{
 "cells": [
  {
   "cell_type": "markdown",
   "id": "f7928e7d-c5de-465e-8061-eb61d55622d0",
   "metadata": {},
   "source": [
    "# NumPy\n",
    "\n",
    "by Hanzholah Shobri, 22 April 2022\n",
    "\n",
    "This is a personal notebook I use to learn Numpy as one of the Scientific Computing libraries. See more at [this repository](https://github.com/hanzholahs/AI-Engineering-Bootcamp).\n",
    "\n",
    "To help me learn, I use these sites as my reference: [Numpy Documentation](https://numpy.org/doc/stable/user/whatisnumpy.html). Here, I also take some notes by copying texts from the website with and without summarising/paraphrasing."
   ]
  },
  {
   "cell_type": "markdown",
   "id": "9e38cf6b-556f-4c38-a12b-aff6e2c9de1a",
   "metadata": {},
   "source": [
    "## What is NumPy? \n",
    "\n",
    "It is a the fundamental package for scientific computing in Python that provides:\n",
    "* a multidimensional array object\n",
    "* various derived objects (such as masked arrays and matrices)\n",
    "* an assortment of routines for fast operations\n",
    "\n",
    "At the core of the NumPy package, is the ndarray object. This encapsulates n-dimensional arrays of homogeneous data types, with many operations being performed in compiled code for performance.\n",
    "\n",
    "Numpy arrays vs standard Python Squences:\n",
    "* NumPy arrays have a **fixed size** at creation\n",
    "* The elements in a NumPy array are all required to be of the **same data type**, and thus will be the same size in memory. \n",
    "* NumPy arrays facilitate **advanced operations on large numbers of data**.\n",
    "* A plethora of scientific and mathematical Python-based packages are **using NumPy arrays behind the scene**."
   ]
  },
  {
   "cell_type": "markdown",
   "id": "e5e8fc01-4619-43d4-8ae0-0c8c4fc9f68a",
   "metadata": {
    "tags": []
   },
   "source": [
    "## Why is NumPy Fast?\n",
    "\n",
    "NumPy uses optimized, pre-compiled C code behind the scenes to compute its operation. Some of its advantages are:\n",
    "* More consice and easier-to-read code\n",
    "* Fewer lines -> fewer bugs\n",
    "* Closely resembles standard mathematical notation\n",
    "* More \"Pythonic\" code"
   ]
  },
  {
   "cell_type": "markdown",
   "id": "6e2cd942-5a3a-4786-9c9c-294ed49c6312",
   "metadata": {},
   "source": [
    "## Using NumPy"
   ]
  },
  {
   "cell_type": "code",
   "execution_count": 4,
   "id": "59d87748-37fa-43d9-a993-36adc0e611f2",
   "metadata": {},
   "outputs": [],
   "source": [
    "# Import NumPy\n",
    "import numpy as np"
   ]
  },
  {
   "cell_type": "markdown",
   "id": "b38c2da6-b9a7-43db-bf81-c3f98417a24b",
   "metadata": {
    "tags": []
   },
   "source": [
    "## Creating NumPy Arrays"
   ]
  },
  {
   "cell_type": "markdown",
   "id": "07d16704-1d8c-4c41-80df-f3ae207982cb",
   "metadata": {},
   "source": [
    "### Creating NumPy Arrays\n",
    "\n",
    "* `np.array`: create an array from a python list"
   ]
  },
  {
   "cell_type": "code",
   "execution_count": 9,
   "id": "e2bd93a7-fce4-49a1-8159-e21669ec2abd",
   "metadata": {},
   "outputs": [
    {
     "data": {
      "text/plain": [
       "array([1, 2, 3, 4])"
      ]
     },
     "execution_count": 9,
     "metadata": {},
     "output_type": "execute_result"
    }
   ],
   "source": [
    "# Create a 1-dimensional array\n",
    "a1 = np.array([1,2,3,4])\n",
    "a1"
   ]
  },
  {
   "cell_type": "code",
   "execution_count": 10,
   "id": "260539ae-3cd8-4b8a-83aa-a6133cc45ad6",
   "metadata": {},
   "outputs": [
    {
     "data": {
      "text/plain": [
       "array([[4, 5, 6],\n",
       "       [7, 6, 5]])"
      ]
     },
     "execution_count": 10,
     "metadata": {},
     "output_type": "execute_result"
    }
   ],
   "source": [
    "# Create a 2-dimensional array\n",
    "a2 = np.array([[4,5,6], [7,6,5]])\n",
    "a2"
   ]
  },
  {
   "cell_type": "code",
   "execution_count": 11,
   "id": "d1fe360f-6f5c-4d46-9c70-8f7b61992fa1",
   "metadata": {},
   "outputs": [
    {
     "data": {
      "text/plain": [
       "(numpy.ndarray, numpy.ndarray)"
      ]
     },
     "execution_count": 11,
     "metadata": {},
     "output_type": "execute_result"
    }
   ],
   "source": [
    "# a1 and a2 are an ndarray or N-dimensional array\n",
    "type(a1), type(a2)"
   ]
  },
  {
   "cell_type": "markdown",
   "id": "dd0b6882-0a3a-42b2-86ea-75ff09b9d6b0",
   "metadata": {
    "tags": []
   },
   "source": [
    "### Other ways to create NumPy Arrays\n",
    "\n",
    "* `np.zeros`: create zeros vector or null vector (array filled with 0's)\n",
    "* `np.ones`: create ones vector (array filled with 1's)\n",
    "* `np.arrange`: create an array contains a range of evenly spaced intervals\n",
    "* `np.linspace`: create an array contains values spaced linearly in an interval"
   ]
  },
  {
   "cell_type": "code",
   "execution_count": 13,
   "id": "47ecece0-af6b-4aea-aaf8-2903cbd28a56",
   "metadata": {},
   "outputs": [
    {
     "data": {
      "text/plain": [
       "array([0., 0.])"
      ]
     },
     "execution_count": 13,
     "metadata": {},
     "output_type": "execute_result"
    }
   ],
   "source": [
    "# Create zero vector or null vector \n",
    "np.zeros(2)"
   ]
  },
  {
   "cell_type": "code",
   "execution_count": 14,
   "id": "41ca3c4f-f371-4237-b713-0e0225b2d500",
   "metadata": {},
   "outputs": [
    {
     "data": {
      "text/plain": [
       "array([1., 1., 1., 1.])"
      ]
     },
     "execution_count": 14,
     "metadata": {},
     "output_type": "execute_result"
    }
   ],
   "source": [
    "# Create ones vector \n",
    "np.ones(4)"
   ]
  },
  {
   "cell_type": "code",
   "execution_count": 18,
   "id": "c3668c33-6b6e-4a50-9cba-2f7c28a60c9a",
   "metadata": {},
   "outputs": [
    {
     "data": {
      "text/plain": [
       "array([0, 1, 2, 3])"
      ]
     },
     "execution_count": 18,
     "metadata": {},
     "output_type": "execute_result"
    }
   ],
   "source": [
    "# Create an array based on a range of numbers\n",
    "np.arange(4)"
   ]
  },
  {
   "cell_type": "code",
   "execution_count": 30,
   "id": "471b387a-10fe-4ea2-af4e-cab2099913ac",
   "metadata": {},
   "outputs": [
    {
     "data": {
      "text/plain": [
       "array([ 2,  4,  6,  8, 10, 12, 14])"
      ]
     },
     "execution_count": 30,
     "metadata": {},
     "output_type": "execute_result"
    }
   ],
   "source": [
    "# Create an array based on a range of numbers - set start, stop, step\n",
    "np.arange(2, 15, 2) # start: 2, stop: 10, step size:3"
   ]
  },
  {
   "cell_type": "code",
   "execution_count": 24,
   "id": "1ee58250-81f7-43fc-a0bf-29436e912efe",
   "metadata": {},
   "outputs": [
    {
     "data": {
      "text/plain": [
       "array([0.5, 1. , 1.5, 2. , 2.5, 3. , 3.5, 4. , 4.5, 5. , 5.5])"
      ]
     },
     "execution_count": 24,
     "metadata": {},
     "output_type": "execute_result"
    }
   ],
   "source": [
    "# Create an array with values spaced linearly in an interval\n",
    "np.linspace(0.5, 5.5, 11) # start: 0.5, stop: 5.5, num of elements: 11"
   ]
  },
  {
   "cell_type": "code",
   "execution_count": 26,
   "id": "680bac07-da44-4b6a-b991-e116f74062e2",
   "metadata": {},
   "outputs": [
    {
     "data": {
      "text/plain": [
       "array([1, 1, 1, 1, 1], dtype=int64)"
      ]
     },
     "execution_count": 26,
     "metadata": {},
     "output_type": "execute_result"
    }
   ],
   "source": [
    "# Create an array with a specified data type - integer\n",
    "np.ones(5, dtype = np.int64)"
   ]
  },
  {
   "cell_type": "code",
   "execution_count": 27,
   "id": "9a5e330c-3c7d-45c4-9d8c-f2d29070b4ac",
   "metadata": {},
   "outputs": [
    {
     "data": {
      "text/plain": [
       "array([ True,  True,  True,  True,  True])"
      ]
     },
     "execution_count": 27,
     "metadata": {},
     "output_type": "execute_result"
    }
   ],
   "source": [
    "# Create an array with a specified data type - boolean\n",
    "np.ones(5, dtype = np.bool)"
   ]
  },
  {
   "cell_type": "markdown",
   "id": "0065b48d-bde7-4c08-b529-9fec44855f20",
   "metadata": {},
   "source": [
    "### Random Generators"
   ]
  },
  {
   "cell_type": "code",
   "execution_count": 265,
   "id": "ad9fb26b-9bb9-4016-a463-25b905d7dbf6",
   "metadata": {},
   "outputs": [
    {
     "data": {
      "text/plain": [
       "array([0.49240254, 0.93582955, 0.37131731, 0.71535544, 0.48317579,\n",
       "       0.29660975, 0.82853202, 0.07792746, 0.78178141, 0.18672644])"
      ]
     },
     "execution_count": 265,
     "metadata": {},
     "output_type": "execute_result"
    }
   ],
   "source": [
    "# Generate random uniformly distributed numbers between zero and one\n",
    "np.random.rand(10)"
   ]
  },
  {
   "cell_type": "code",
   "execution_count": 266,
   "id": "8567aa49-13dc-48cc-a099-5fe2d5d6d6e5",
   "metadata": {},
   "outputs": [
    {
     "data": {
      "text/plain": [
       "array([[0.6665787 , 0.83603671],\n",
       "       [0.66187907, 0.69660588],\n",
       "       [0.31879362, 0.07194154],\n",
       "       [0.95814609, 0.04493414],\n",
       "       [0.68831959, 0.36200273],\n",
       "       [0.08392974, 0.15957744],\n",
       "       [0.07589289, 0.77975243],\n",
       "       [0.64313626, 0.7784971 ],\n",
       "       [0.712102  , 0.31802608],\n",
       "       [0.39527979, 0.48403187]])"
      ]
     },
     "execution_count": 266,
     "metadata": {},
     "output_type": "execute_result"
    }
   ],
   "source": [
    "# Generate random uniformly distributed numbers between zero and one\n",
    "np.random.rand(10, 2)"
   ]
  },
  {
   "cell_type": "code",
   "execution_count": 261,
   "id": "5b6e2add-b4bd-403f-b64b-414075f2e5a4",
   "metadata": {},
   "outputs": [
    {
     "data": {
      "text/plain": [
       "array([-0.24447873,  1.50944412,  1.77257884, -0.69968959, -0.46959337,\n",
       "       -1.75668419, -1.4337014 , -1.12168122,  0.75906261, -0.12599449])"
      ]
     },
     "execution_count": 261,
     "metadata": {},
     "output_type": "execute_result"
    }
   ],
   "source": [
    "# Generate random normally distributed numbers with mean = 0 and std = 1\n",
    "np.random.randn(10)"
   ]
  },
  {
   "cell_type": "code",
   "execution_count": 263,
   "id": "36adc663-13af-4bba-91d7-e9a202e6fb0c",
   "metadata": {},
   "outputs": [
    {
     "data": {
      "text/plain": [
       "0.0016435119803080527"
      ]
     },
     "execution_count": 263,
     "metadata": {},
     "output_type": "execute_result"
    }
   ],
   "source": [
    "# Generate random normally distributed numbers then compute the mean\n",
    "np.random.randn(10**5).mean()"
   ]
  },
  {
   "cell_type": "code",
   "execution_count": 264,
   "id": "93109f31-ea09-4806-a209-cbf256adcd95",
   "metadata": {},
   "outputs": [
    {
     "data": {
      "text/plain": [
       "0.9999220856520181"
      ]
     },
     "execution_count": 264,
     "metadata": {},
     "output_type": "execute_result"
    }
   ],
   "source": [
    "# Generate random normally distributed numbers then compute the std\n",
    "np.random.randn(10**5).std()"
   ]
  },
  {
   "cell_type": "markdown",
   "id": "888375f0-ff23-4af0-98a1-fe974ef47799",
   "metadata": {},
   "source": [
    "## Working with Array Structures \n",
    "\n",
    "* `ndarray.ndim`: number of dimensions\n",
    "* `ndarray.size`: total number of elements\n",
    "* `ndarray.shape`: number of elements along each dimension\n",
    "* `ndarray.reshape`: change the shape of an array without changing the data (the number of elements is still the same before and after reshaping)\n",
    "* `ndarray.transpose`: transpose (reverse the axis) of a matrix (2-dimensional array)\n",
    "* `ndarray.T`: matrix transpose\n",
    "* `ndarray.flatten`: transform an n-dimensional array into 1-dimensional array\n",
    "\n",
    "Here, the `ndarray` represents a NumPy array object (e.g., an array that is created using `np.array` function)."
   ]
  },
  {
   "cell_type": "code",
   "execution_count": 279,
   "id": "fb838bc0-9163-4138-9791-cc077d57c403",
   "metadata": {},
   "outputs": [],
   "source": [
    "# Create another array to work with\n",
    "a3 = np.array([4,5,8,2,8,9,1,3,4,5,2,8,5,6,8])\n",
    "a4 = np.array([[[2,4,2,4], [0,2,3,7]],\n",
    "               [[7,5,3,2], [2,6,4,2]],\n",
    "               [[4,7,2,4], [5,6,3,4]]])"
   ]
  },
  {
   "cell_type": "code",
   "execution_count": 99,
   "id": "59b91a0b-c476-4469-bb56-9ad23330080d",
   "metadata": {},
   "outputs": [
    {
     "name": "stdout",
     "output_type": "stream",
     "text": [
      "1\n",
      "3\n"
     ]
    }
   ],
   "source": [
    "# find the number of dimensions of a3 and a4\n",
    "print(a3.ndim)\n",
    "print(a4.ndim)"
   ]
  },
  {
   "cell_type": "code",
   "execution_count": 100,
   "id": "8b67113a-15fb-477b-b571-989c6f59541f",
   "metadata": {},
   "outputs": [
    {
     "name": "stdout",
     "output_type": "stream",
     "text": [
      "15\n",
      "24\n"
     ]
    }
   ],
   "source": [
    "# find the number of elements in a3 and a4\n",
    "print(a3.size)\n",
    "print(a4.size)"
   ]
  },
  {
   "cell_type": "code",
   "execution_count": 101,
   "id": "f44c54b9-bffa-4591-84dd-980d33fe2629",
   "metadata": {},
   "outputs": [
    {
     "name": "stdout",
     "output_type": "stream",
     "text": [
      "(15,)\n",
      "(3, 2, 4)\n"
     ]
    }
   ],
   "source": [
    "# find the shape (number of elements and dimensions) of a3 and a4\n",
    "print(a3.shape)\n",
    "print(a4.shape)"
   ]
  },
  {
   "cell_type": "code",
   "execution_count": 102,
   "id": "1266e698-c112-4881-8a1b-bc03a5eb6787",
   "metadata": {},
   "outputs": [
    {
     "data": {
      "text/plain": [
       "array([[4, 5, 8, 2, 8],\n",
       "       [9, 1, 3, 0, 5],\n",
       "       [2, 8, 5, 6, 8]])"
      ]
     },
     "execution_count": 102,
     "metadata": {},
     "output_type": "execute_result"
    }
   ],
   "source": [
    "# Reshape a3 (from 1-dimensional array to 2-dimensional array)\n",
    "a3.reshape(3, 5)"
   ]
  },
  {
   "cell_type": "code",
   "execution_count": 267,
   "id": "0a62016c-f66e-496a-8237-8bdbbc8fde3e",
   "metadata": {},
   "outputs": [
    {
     "data": {
      "text/plain": [
       "array([[0, 1, 2],\n",
       "       [2, 3, 4],\n",
       "       [5, 5, 5],\n",
       "       [6, 8, 8],\n",
       "       [8, 8, 9]])"
      ]
     },
     "execution_count": 267,
     "metadata": {},
     "output_type": "execute_result"
    }
   ],
   "source": [
    "# Reshape a3 (another way using np.reshape)\n",
    "np.reshape(a3, (5, 3))"
   ]
  },
  {
   "cell_type": "code",
   "execution_count": 297,
   "id": "10dd333d-e418-48a9-9901-d9115b66a73d",
   "metadata": {},
   "outputs": [
    {
     "data": {
      "text/plain": [
       "array([[[2, 7, 4],\n",
       "        [0, 2, 5]],\n",
       "\n",
       "       [[4, 5, 7],\n",
       "        [2, 6, 6]],\n",
       "\n",
       "       [[2, 3, 2],\n",
       "        [3, 4, 3]],\n",
       "\n",
       "       [[4, 2, 4],\n",
       "        [7, 2, 4]]])"
      ]
     },
     "execution_count": 297,
     "metadata": {},
     "output_type": "execute_result"
    }
   ],
   "source": [
    "# Transpose a4\n",
    "a4.transpose()"
   ]
  },
  {
   "cell_type": "code",
   "execution_count": 292,
   "id": "64e9d19a-94d4-4bde-a60d-efd9a61ce915",
   "metadata": {},
   "outputs": [
    {
     "data": {
      "text/plain": [
       "array([[2, 0],\n",
       "       [4, 2],\n",
       "       [2, 3],\n",
       "       [4, 7]])"
      ]
     },
     "execution_count": 292,
     "metadata": {},
     "output_type": "execute_result"
    }
   ],
   "source": [
    "# Transpose a4\n",
    "a4[0].T"
   ]
  },
  {
   "cell_type": "code",
   "execution_count": 298,
   "id": "ee0c5a86-8ffe-482d-bfda-421a2ff7e0f8",
   "metadata": {},
   "outputs": [
    {
     "data": {
      "text/plain": [
       "array([2, 4, 2, 4, 0, 2, 3, 7, 7, 5, 3, 2, 2, 6, 4, 2, 4, 7, 2, 4, 5, 6,\n",
       "       3, 4])"
      ]
     },
     "execution_count": 298,
     "metadata": {},
     "output_type": "execute_result"
    }
   ],
   "source": [
    "a4.flatten()"
   ]
  },
  {
   "cell_type": "markdown",
   "id": "d296d90b-3c1e-4d78-9eba-d9e1ea9c650b",
   "metadata": {},
   "source": [
    "## Working with Basic Functions and Methods\n",
    "\n",
    "* `np.sort`: sort elements within an array\n",
    "* `np.concatenate`: concatenate several arrays\n",
    "* `np.unique`: find the unique elements in an array\n",
    "* `np.flip`: reverse the elements along an axis"
   ]
  },
  {
   "cell_type": "code",
   "execution_count": 104,
   "id": "f4771fd4-4411-48da-a99e-abfce89bf19d",
   "metadata": {},
   "outputs": [
    {
     "name": "stdout",
     "output_type": "stream",
     "text": [
      "before\t: [4 5 8 2 8 9 1 3 0 5 2 8 5 6 8]\n",
      "after\t: [0 1 2 2 3 4 5 5 5 6 8 8 8 8 9]\n"
     ]
    }
   ],
   "source": [
    "# Sort array a3 (this operates permanently)\n",
    "print(\"before\\t:\", a3)\n",
    "a3 = np.sort(a3)\n",
    "print(\"after\\t:\", a3)"
   ]
  },
  {
   "cell_type": "code",
   "execution_count": 90,
   "id": "dd327f2e-85ce-4a42-b873-6df340ea3f28",
   "metadata": {},
   "outputs": [
    {
     "data": {
      "text/plain": [
       "array([1, 2, 3, 4, 0, 1, 2, 2, 3, 4, 5, 5, 5, 6, 8, 8, 8, 8, 9])"
      ]
     },
     "execution_count": 90,
     "metadata": {},
     "output_type": "execute_result"
    }
   ],
   "source": [
    "# Concatenate two 1-dimensional arrays\n",
    "np.concatenate((a1, a3))"
   ]
  },
  {
   "cell_type": "code",
   "execution_count": 91,
   "id": "131b9d71-4181-42d2-9db6-ea01a527479b",
   "metadata": {},
   "outputs": [
    {
     "data": {
      "text/plain": [
       "array([[ 4,  5,  6],\n",
       "       [ 7,  6,  5],\n",
       "       [10, 11, 12],\n",
       "       [20, 21, 22]])"
      ]
     },
     "execution_count": 91,
     "metadata": {},
     "output_type": "execute_result"
    }
   ],
   "source": [
    "# Concatenate two 2-dimensional arrays\n",
    "np.concatenate((a2, np.array([[10, 11, 12], [20, 21, 22]])))"
   ]
  },
  {
   "cell_type": "code",
   "execution_count": 274,
   "id": "f011ccf6-ef21-4029-8f71-ea4bb43f39c5",
   "metadata": {},
   "outputs": [
    {
     "data": {
      "text/plain": [
       "array([1, 2, 3, 4, 5, 6, 8, 9])"
      ]
     },
     "execution_count": 274,
     "metadata": {},
     "output_type": "execute_result"
    }
   ],
   "source": [
    "# Find unique values in a3\n",
    "np.unique(a3)"
   ]
  },
  {
   "cell_type": "code",
   "execution_count": 277,
   "id": "71530360-211e-4d99-b46a-c41504a86ebd",
   "metadata": {},
   "outputs": [
    {
     "data": {
      "text/plain": [
       "array([0, 2, 3, 4, 5, 6, 7])"
      ]
     },
     "execution_count": 277,
     "metadata": {},
     "output_type": "execute_result"
    }
   ],
   "source": [
    "# Find unique values in a4\n",
    "np.unique(a4)"
   ]
  },
  {
   "cell_type": "code",
   "execution_count": 305,
   "id": "6695f4cf-77d9-498d-a897-f89b8698fd06",
   "metadata": {},
   "outputs": [
    {
     "data": {
      "text/plain": [
       "array([8, 6, 5, 8, 2, 5, 4, 3, 1, 9, 8, 2, 8, 5, 4])"
      ]
     },
     "execution_count": 305,
     "metadata": {},
     "output_type": "execute_result"
    }
   ],
   "source": [
    "# Reverse the elements within a3 \n",
    "np.flip(a3)"
   ]
  },
  {
   "cell_type": "code",
   "execution_count": 315,
   "id": "a55ae284-3be3-4ce4-8e9c-6cbedb8b637a",
   "metadata": {},
   "outputs": [
    {
     "data": {
      "text/plain": [
       "array([[[4, 3, 6, 5],\n",
       "        [4, 2, 7, 4]],\n",
       "\n",
       "       [[2, 4, 6, 2],\n",
       "        [2, 3, 5, 7]],\n",
       "\n",
       "       [[7, 3, 2, 0],\n",
       "        [4, 2, 4, 2]]])"
      ]
     },
     "execution_count": 315,
     "metadata": {},
     "output_type": "execute_result"
    }
   ],
   "source": [
    "# Reverse the elements within a4\n",
    "np.flip(a4)"
   ]
  },
  {
   "cell_type": "code",
   "execution_count": 310,
   "id": "7f8a52c9-05bd-4050-8a8b-4a081f173fb0",
   "metadata": {},
   "outputs": [
    {
     "data": {
      "text/plain": [
       "array([[[4, 7, 2, 4],\n",
       "        [5, 6, 3, 4]],\n",
       "\n",
       "       [[7, 5, 3, 2],\n",
       "        [2, 6, 4, 2]],\n",
       "\n",
       "       [[2, 4, 2, 4],\n",
       "        [0, 2, 3, 7]]])"
      ]
     },
     "execution_count": 310,
     "metadata": {},
     "output_type": "execute_result"
    }
   ],
   "source": [
    "# Reverse the elements within a4 along with axis 0\n",
    "np.flip(a4, axis = 0)"
   ]
  },
  {
   "cell_type": "code",
   "execution_count": 314,
   "id": "a19b0f7e-0bda-4b5d-8589-42777e7bc89d",
   "metadata": {},
   "outputs": [
    {
     "data": {
      "text/plain": [
       "array([[[0, 2, 3, 7],\n",
       "        [2, 4, 2, 4]],\n",
       "\n",
       "       [[2, 6, 4, 2],\n",
       "        [7, 5, 3, 2]],\n",
       "\n",
       "       [[5, 6, 3, 4],\n",
       "        [4, 7, 2, 4]]])"
      ]
     },
     "execution_count": 314,
     "metadata": {},
     "output_type": "execute_result"
    }
   ],
   "source": [
    "# Reverse the elements within a4 along with axis 1\n",
    "np.flip(a4, axis = 1)"
   ]
  },
  {
   "cell_type": "markdown",
   "id": "2e18f8f4-1da9-4b08-83cc-4e5e027d8678",
   "metadata": {},
   "source": [
    "## Indexing and Slicing NumPy Arrays"
   ]
  },
  {
   "cell_type": "code",
   "execution_count": 112,
   "id": "deb58d9b-62c9-4e83-abdc-83c2800a6413",
   "metadata": {},
   "outputs": [],
   "source": [
    "# Create another array to work with\n",
    "a5 = np.array([4,1,3,0,5,5,8,2,8,9,2,8,5,6,8])\n",
    "a6 = np.array([[[2,4,6,5], [9,2,3,7]],\n",
    "               [[4,1,2,4], [5,6,3,4]],\n",
    "               [[7,5,2,7], [1,6,3,5]]])"
   ]
  },
  {
   "cell_type": "markdown",
   "id": "7ff8cbd1-b9b8-4186-af37-cd54318738aa",
   "metadata": {},
   "source": [
    "### Subset Elements from 1-dimensional Arrays"
   ]
  },
  {
   "cell_type": "code",
   "execution_count": 119,
   "id": "0543a52b-750d-42b4-8655-099e06f76981",
   "metadata": {},
   "outputs": [
    {
     "data": {
      "text/plain": [
       "8"
      ]
     },
     "execution_count": 119,
     "metadata": {},
     "output_type": "execute_result"
    }
   ],
   "source": [
    "# Subset elements from an array - seventh element, index start from zero\n",
    "a5[6]"
   ]
  },
  {
   "cell_type": "code",
   "execution_count": 114,
   "id": "fc61c129-ac3d-44e0-8ce8-e33ed570917e",
   "metadata": {},
   "outputs": [
    {
     "data": {
      "text/plain": [
       "array([0, 5, 5, 8, 2])"
      ]
     },
     "execution_count": 114,
     "metadata": {},
     "output_type": "execute_result"
    }
   ],
   "source": [
    "# Subset elements from an array - fourth to ninth elements\n",
    "a5[3:8]"
   ]
  },
  {
   "cell_type": "code",
   "execution_count": 115,
   "id": "bdcd909b-168f-42f9-bd0f-15e536ff4f05",
   "metadata": {},
   "outputs": [
    {
     "data": {
      "text/plain": [
       "array([5, 8, 2, 8, 9, 2, 8, 5, 6, 8])"
      ]
     },
     "execution_count": 115,
     "metadata": {},
     "output_type": "execute_result"
    }
   ],
   "source": [
    "# Subset elements from an array - from sixth to the last elements\n",
    "a5[5:]"
   ]
  },
  {
   "cell_type": "code",
   "execution_count": 118,
   "id": "82592f65-cb9d-4d8e-9a5d-193d0ae34a60",
   "metadata": {},
   "outputs": [
    {
     "data": {
      "text/plain": [
       "array([2, 8, 5, 6, 8])"
      ]
     },
     "execution_count": 118,
     "metadata": {},
     "output_type": "execute_result"
    }
   ],
   "source": [
    "# Subset elements from an array - the last 5 elements\n",
    "a5[-5:]"
   ]
  },
  {
   "cell_type": "code",
   "execution_count": 121,
   "id": "8ebfd08e-885f-4ab5-a999-31a7d5eea58d",
   "metadata": {},
   "outputs": [
    {
     "data": {
      "text/plain": [
       "array([1, 0, 2, 2])"
      ]
     },
     "execution_count": 121,
     "metadata": {},
     "output_type": "execute_result"
    }
   ],
   "source": [
    "# Subset elements using a logical statement - elements less than 3\n",
    "a5[a5 < 3]"
   ]
  },
  {
   "cell_type": "code",
   "execution_count": 124,
   "id": "92d014f7-39ea-4f11-8cff-0b0de3a45421",
   "metadata": {},
   "outputs": [
    {
     "data": {
      "text/plain": [
       "array([1, 3, 5, 5, 9, 5])"
      ]
     },
     "execution_count": 125,
     "metadata": {},
     "output_type": "execute_result"
    }
   ],
   "source": [
    "# Subset elements using a logical statement - elements that are even\n",
    "a5[a5 % 2 == 0]"
   ]
  },
  {
   "cell_type": "code",
   "execution_count": 130,
   "id": "44ecdfe6-943e-4188-927d-e4ed984dde93",
   "metadata": {},
   "outputs": [
    {
     "data": {
      "text/plain": [
       "array([4, 3, 5, 5, 8, 8, 8, 5, 6, 8])"
      ]
     },
     "execution_count": 130,
     "metadata": {},
     "output_type": "execute_result"
    }
   ],
   "source": [
    "# Subsets elements using a logical statement - elements between 3 and 8\n",
    "a5[(2 < a5) & (a5 <= 8)]"
   ]
  },
  {
   "cell_type": "code",
   "execution_count": 131,
   "id": "00740712-ce38-4058-b89e-692d77c41afb",
   "metadata": {},
   "outputs": [
    {
     "data": {
      "text/plain": [
       "array([4, 3, 0, 8, 2, 8, 2, 8, 6, 8])"
      ]
     },
     "execution_count": 131,
     "metadata": {},
     "output_type": "execute_result"
    }
   ],
   "source": [
    "# Subset elements using a logical statement - elements that are even or 3\n",
    "a5[(a5 % 2 == 0) | (a5 == 3)]"
   ]
  },
  {
   "cell_type": "markdown",
   "id": "486df46b-eed4-4d49-9026-83187965a26d",
   "metadata": {},
   "source": [
    "### Subset Elements from n-dimensional Arrays (n > 1)"
   ]
  },
  {
   "cell_type": "code",
   "execution_count": 247,
   "id": "1a1ed081-1b68-45b5-a47f-d9dc0cbcd496",
   "metadata": {},
   "outputs": [
    {
     "data": {
      "text/plain": [
       "array([[2, 4, 6, 5],\n",
       "       [9, 2, 3, 7]])"
      ]
     },
     "execution_count": 247,
     "metadata": {},
     "output_type": "execute_result"
    }
   ],
   "source": [
    "# Subset the first element\n",
    "a6[0]"
   ]
  },
  {
   "cell_type": "code",
   "execution_count": 248,
   "id": "94559539-21e9-4be9-8e29-afae14756b06",
   "metadata": {},
   "outputs": [
    {
     "data": {
      "text/plain": [
       "array([[[2, 4, 6, 5],\n",
       "        [9, 2, 3, 7]],\n",
       "\n",
       "       [[4, 1, 2, 4],\n",
       "        [5, 6, 3, 4]]])"
      ]
     },
     "execution_count": 248,
     "metadata": {},
     "output_type": "execute_result"
    }
   ],
   "source": [
    "# Subset the first and second elements\n",
    "a6[0:2]"
   ]
  },
  {
   "cell_type": "code",
   "execution_count": 250,
   "id": "ba1b62e2-e649-4873-bedf-eb2fdbc85b0f",
   "metadata": {},
   "outputs": [
    {
     "data": {
      "text/plain": [
       "array([[4, 1, 2, 4],\n",
       "       [7, 5, 2, 7]])"
      ]
     },
     "execution_count": 250,
     "metadata": {},
     "output_type": "execute_result"
    }
   ],
   "source": [
    "# Subset the first elements of the first to the last elements\n",
    "a6[1:, 0]"
   ]
  },
  {
   "cell_type": "code",
   "execution_count": 251,
   "id": "ea8290f6-4f6a-4a3f-ba1a-62846a148f9f",
   "metadata": {},
   "outputs": [
    {
     "data": {
      "text/plain": [
       "array([1, 6, 3, 5])"
      ]
     },
     "execution_count": 251,
     "metadata": {},
     "output_type": "execute_result"
    }
   ],
   "source": [
    "# Subset the third element then subset the second element\n",
    "a6[2][1]"
   ]
  },
  {
   "cell_type": "code",
   "execution_count": 252,
   "id": "02797dae-e758-43cd-b2d6-eb11951e2cf9",
   "metadata": {},
   "outputs": [
    {
     "data": {
      "text/plain": [
       "3"
      ]
     },
     "execution_count": 252,
     "metadata": {},
     "output_type": "execute_result"
    }
   ],
   "source": [
    "# Subset the third element then the second than the third\n",
    "a6[2][1][2]"
   ]
  },
  {
   "cell_type": "markdown",
   "id": "e4336d18-14ef-4e85-ab44-4db12db39830",
   "metadata": {},
   "source": [
    "## Using `view` and `copy`"
   ]
  },
  {
   "cell_type": "markdown",
   "id": "ffa12d59-e557-44e9-9306-3b18c180532f",
   "metadata": {},
   "source": [
    "Be careful! Assignment existing data to a new variable will create another name for the data. Any operations done the data will be reflected on both the old and new variable names. \n",
    "\n",
    "Assigning an existing array object to a new variable is called `view` method and this will generate a *shallow copy* of that object. "
   ]
  },
  {
   "cell_type": "code",
   "execution_count": 153,
   "id": "9c975666-9a6b-4a75-90e6-5826da03a96c",
   "metadata": {},
   "outputs": [
    {
     "name": "stdout",
     "output_type": "stream",
     "text": [
      "Before\n",
      "b: [3 5 2 6 3 5 2 3 4 3 4 5 4]\n",
      "b: [3 5 2 6 3 5 2 3 4 3 4 5 4]\n",
      "\n",
      "After\n",
      "a: [  3   5   2 100   3   5   2   3   4   3   4   5   4]\n",
      "b: [  3   5   2 100   3   5   2   3   4   3   4   5   4]\n",
      "\n"
     ]
    }
   ],
   "source": [
    "print(\"Before\")\n",
    "\n",
    "a = np.array([3,5,2,6,3,5,2,3,4,3,4,5,4])\n",
    "print(\"b:\", a)\n",
    "\n",
    "b = a\n",
    "print(\"b:\", b)\n",
    "\n",
    "a[3] = 100\n",
    "print(\"\\nAfter\")\n",
    "\n",
    "print(\"a:\", a)\n",
    "print(\"b:\", b)\n",
    "print()"
   ]
  },
  {
   "cell_type": "markdown",
   "id": "c2d30cdc-df16-4a49-ab3a-f8a477f5682e",
   "metadata": {},
   "source": [
    "`view` method is important concept for performing operations that saves memory and runs faster. This is because `view` does not generate a copy of the data.\n",
    "\n",
    "Any modification in a `view` also modifies the original as shown above. The method  also works for a subset of an array. "
   ]
  },
  {
   "cell_type": "code",
   "execution_count": 158,
   "id": "0631af60-97e5-4eb4-adcc-a12202eb729b",
   "metadata": {},
   "outputs": [
    {
     "name": "stdout",
     "output_type": "stream",
     "text": [
      "[1001 1001 1001]\n",
      "[   3    5    2  100    3    5 1001 1001 1001    3    4    5    4]\n",
      "[   3    5    2  100    3    5 1001 1001 1001    3    4    5    4]\n",
      "[1001 1001 1001]\n",
      "\n"
     ]
    }
   ],
   "source": [
    "c = a[6:9]\n",
    "print(c)\n",
    "\n",
    "c[0] = 1001\n",
    "c[1] = 1001\n",
    "c[2] = 1001\n",
    "print(a)\n",
    "print(b)\n",
    "print(c)\n",
    "print()"
   ]
  },
  {
   "cell_type": "markdown",
   "id": "a900d778-dd9d-4334-b02b-83292ca11039",
   "metadata": {},
   "source": [
    "`copy` method will generate a completely new data from the array, and modification in the copied data will not affect the original."
   ]
  },
  {
   "cell_type": "code",
   "execution_count": 162,
   "id": "67e1d01e-3af0-4c76-b862-ff68f70b21da",
   "metadata": {},
   "outputs": [
    {
     "name": "stdout",
     "output_type": "stream",
     "text": [
      "[   3    5    2  100    3    5 1001 1001 1001    3    4    5    4]\n",
      "[   3    5    2  100    3    5 1001 1001 1001    3    4    5    4]\n",
      "[1001    5    2  100    3    5 1001 1001 1001    3    4    5    4]\n"
     ]
    }
   ],
   "source": [
    "d = a.copy()\n",
    "print(d)\n",
    "\n",
    "d[0] = 1001\n",
    "print(a)\n",
    "print(d)"
   ]
  },
  {
   "cell_type": "markdown",
   "id": "13c7d8ca-b543-4f49-ba19-2f12cdd68bea",
   "metadata": {},
   "source": [
    "## Array Operations and Functions"
   ]
  },
  {
   "cell_type": "markdown",
   "id": "e2066549-b46f-4e34-b685-9925d3aacffb",
   "metadata": {},
   "source": [
    "### Mathematical Operations"
   ]
  },
  {
   "cell_type": "code",
   "execution_count": 216,
   "id": "d3a1c899-02e6-4895-b06c-38c630b5f9c6",
   "metadata": {},
   "outputs": [],
   "source": [
    "arr0 = np.zeros(10)\n",
    "arr1 = np.ones(10)\n",
    "arrA = np.arange(1, 11)\n",
    "arrB = np.linspace(10, 100, 10)\n",
    "arrC = np.array([6,3,6,8,5,5,6,8,4,2])"
   ]
  },
  {
   "cell_type": "code",
   "execution_count": 189,
   "id": "46de6558-fdd0-43e6-8256-25e9b63b5340",
   "metadata": {},
   "outputs": [
    {
     "data": {
      "text/plain": [
       "(array([ 10.,  20.,  30.,  40.,  50.,  60.,  70.,  80.,  90., 100.]),\n",
       " array([ 1.,  2.,  3.,  4.,  5.,  6.,  7.,  8.,  9., 10.]),\n",
       " array([ -4., -17., -24., -32., -45., -55., -64., -72., -86., -98.]),\n",
       " array([10., 10., 10., 10., 10., 10., 10., 10., 10., 10.]))"
      ]
     },
     "execution_count": 189,
     "metadata": {},
     "output_type": "execute_result"
    }
   ],
   "source": [
    "# Basic mathematical operations\n",
    "arr1 * arrB, arr0 + arrA, arrC - arrB, arrB / arrA"
   ]
  },
  {
   "cell_type": "code",
   "execution_count": 192,
   "id": "b05df77f-723d-44f0-8f32-b27605df0801",
   "metadata": {},
   "outputs": [
    {
     "data": {
      "text/plain": [
       "array([ 16.        ,  21.5       ,  32.        ,  42.        ,\n",
       "        51.        ,  60.83333333,  70.85714286,  81.        ,\n",
       "        90.44444444, 100.2       ])"
      ]
     },
     "execution_count": 192,
     "metadata": {},
     "output_type": "execute_result"
    }
   ],
   "source": [
    "# Combining several operations\n",
    "arr1 * arrB + arrC / arrA"
   ]
  },
  {
   "cell_type": "code",
   "execution_count": 303,
   "id": "32ee232a-0948-4c0b-a3b7-afb0a41dcf6c",
   "metadata": {},
   "outputs": [
    {
     "data": {
      "text/plain": [
       "array([ 4, -1, -2,  2,  0,  0, -2,  2,  1, -4])"
      ]
     },
     "execution_count": 303,
     "metadata": {},
     "output_type": "execute_result"
    }
   ],
   "source": [
    "arrC - np.flip(arrC)"
   ]
  },
  {
   "cell_type": "markdown",
   "id": "7c8ed65c-e813-417f-9b66-33fc87482704",
   "metadata": {
    "tags": []
   },
   "source": [
    "### Broadcasting\n",
    "\n",
    "Broadcasting is a mechanism that allows NumPy to perform operations on arrays of different shapes, but the dimenstions must be compatible."
   ]
  },
  {
   "cell_type": "code",
   "execution_count": 193,
   "id": "ccd8afe0-35f0-4612-a0f4-442e996d92c7",
   "metadata": {},
   "outputs": [
    {
     "data": {
      "text/plain": [
       "array([101, 102, 103, 104, 105, 106, 107, 108, 109, 110])"
      ]
     },
     "execution_count": 193,
     "metadata": {},
     "output_type": "execute_result"
    }
   ],
   "source": [
    "arrA + 100"
   ]
  },
  {
   "cell_type": "code",
   "execution_count": 197,
   "id": "e5ee6be7-67fe-4b46-b2b0-8e7de053ad9e",
   "metadata": {},
   "outputs": [
    {
     "data": {
      "text/plain": [
       "array([ 1.,  2.,  3.,  4.,  5.,  6.,  7.,  8.,  9., 10.])"
      ]
     },
     "execution_count": 197,
     "metadata": {},
     "output_type": "execute_result"
    }
   ],
   "source": [
    "arrB / 10"
   ]
  },
  {
   "cell_type": "code",
   "execution_count": 198,
   "id": "d0abf492-9aaa-43ad-bbbb-4c03cabda448",
   "metadata": {},
   "outputs": [
    {
     "data": {
      "text/plain": [
       "array([30.72, 15.36, 30.72, 40.96, 25.6 , 25.6 , 30.72, 40.96, 20.48,\n",
       "       10.24])"
      ]
     },
     "execution_count": 198,
     "metadata": {},
     "output_type": "execute_result"
    }
   ],
   "source": [
    "arrC * 5.12"
   ]
  },
  {
   "cell_type": "markdown",
   "id": "235b09ba-974a-4b9c-9e1e-f44e327266d0",
   "metadata": {},
   "source": [
    "### Aggregation functions\n",
    "\n",
    "The aggregate function performs some calculations to a NumPy array and returns a value based on that. Some of the methods here are: `min`, `max`, `sum`, `mean`, `std`."
   ]
  },
  {
   "cell_type": "code",
   "execution_count": 201,
   "id": "10d12389-c4d7-41df-86e4-4ad7cc08ddc7",
   "metadata": {},
   "outputs": [
    {
     "data": {
      "text/plain": [
       "53"
      ]
     },
     "execution_count": 201,
     "metadata": {},
     "output_type": "execute_result"
    }
   ],
   "source": [
    "arrC.sum()"
   ]
  },
  {
   "cell_type": "code",
   "execution_count": 202,
   "id": "fa55d127-e7de-48dc-bbea-bfd784fc5bd0",
   "metadata": {},
   "outputs": [
    {
     "data": {
      "text/plain": [
       "10.0"
      ]
     },
     "execution_count": 202,
     "metadata": {},
     "output_type": "execute_result"
    }
   ],
   "source": [
    "arrB.min()"
   ]
  },
  {
   "cell_type": "code",
   "execution_count": 203,
   "id": "933fe3f4-ea4e-41a0-a84b-a0f182f17223",
   "metadata": {},
   "outputs": [
    {
     "data": {
      "text/plain": [
       "100.0"
      ]
     },
     "execution_count": 203,
     "metadata": {},
     "output_type": "execute_result"
    }
   ],
   "source": [
    "arrB.max()"
   ]
  },
  {
   "cell_type": "code",
   "execution_count": 206,
   "id": "0e9749c8-10aa-470f-9b92-fd1b2740666c",
   "metadata": {},
   "outputs": [
    {
     "data": {
      "text/plain": [
       "80.825"
      ]
     },
     "execution_count": 206,
     "metadata": {},
     "output_type": "execute_result"
    }
   ],
   "source": [
    "(arrC * 15.25).mean()"
   ]
  },
  {
   "cell_type": "code",
   "execution_count": 209,
   "id": "53a21ef2-040c-492d-9880-cbf32901722e",
   "metadata": {},
   "outputs": [
    {
     "data": {
      "text/plain": [
       "37.339657202497186"
      ]
     },
     "execution_count": 209,
     "metadata": {},
     "output_type": "execute_result"
    }
   ],
   "source": [
    "(arrA * 13).std()"
   ]
  },
  {
   "cell_type": "code",
   "execution_count": 223,
   "id": "bf1f919d-62c0-4ac7-8f51-a8d4e71a6392",
   "metadata": {},
   "outputs": [
    {
     "data": {
      "text/plain": [
       "array([3., 3., 4., 7.])"
      ]
     },
     "execution_count": 223,
     "metadata": {},
     "output_type": "execute_result"
    }
   ],
   "source": [
    "# Using an aggregation function with arrays with more than 1 dimensions\n",
    "arrD = np.array([[0,2,3,6],\n",
    "                 [7,4,3,6],\n",
    "                 [2,3,6,9]])\n",
    "arrD.mean(axis = 0)"
   ]
  },
  {
   "cell_type": "code",
   "execution_count": 220,
   "id": "e5351466-0268-44bf-862d-7c3d57d4e8db",
   "metadata": {},
   "outputs": [
    {
     "data": {
      "text/plain": [
       "array([2.5, 5. , 5. ])"
      ]
     },
     "execution_count": 220,
     "metadata": {},
     "output_type": "execute_result"
    }
   ],
   "source": [
    "# Using an aggregation function with arrays with more than 1 dimensions\n",
    "arrD.mean(axis = 1)"
   ]
  },
  {
   "cell_type": "code",
   "execution_count": 222,
   "id": "49c1c64b-1348-4638-a0b3-13a7abd537a8",
   "metadata": {},
   "outputs": [
    {
     "data": {
      "text/plain": [
       "2.5"
      ]
     },
     "execution_count": 222,
     "metadata": {},
     "output_type": "execute_result"
    }
   ],
   "source": [
    "# Using an aggregation function with arrays with more than 1 dimensions\n",
    "arrD[0].mean()"
   ]
  },
  {
   "cell_type": "code",
   "execution_count": 224,
   "id": "581e720b-771e-4caf-8ed6-d34b589cfe12",
   "metadata": {},
   "outputs": [
    {
     "data": {
      "text/plain": [
       "6"
      ]
     },
     "execution_count": 224,
     "metadata": {},
     "output_type": "execute_result"
    }
   ],
   "source": [
    "# Using an aggregation function with arrays with more than 1 dimensions\n",
    "arrD[0].max()"
   ]
  },
  {
   "cell_type": "markdown",
   "id": "4554eea0-1b85-44ce-9cdd-21705d70b75c",
   "metadata": {},
   "source": [
    "## Working with Mathmatical Formula: Mean Square Error"
   ]
  },
  {
   "cell_type": "markdown",
   "id": "74b74c54-4679-4143-bcb8-441eb4b6b062",
   "metadata": {},
   "source": [
    "[Mean Squared Error](https://en.wikipedia.org/wiki/Mean_squared_error) (MSE) measures the average of the squares of the errors, that is, the average squared difference between the estimated values and the actual value. The formula for calculating Mean Squared Error is\n",
    "\n",
    "$$ MSE = \\frac{1}{n} \\sum_{i=1}^{n} (\\hat{y}_i - y_i)^2 $$\n",
    "\n",
    "This can be rewriten in a function that uses NumPy arrays."
   ]
  },
  {
   "cell_type": "code",
   "execution_count": 364,
   "id": "30f88ce0-c412-473b-9702-93d3106f1d49",
   "metadata": {},
   "outputs": [],
   "source": [
    "# Define MSE function\n",
    "def MSE(prediction, actual):\n",
    "    \"\"\"Calculates the Mean Squared Error given the actual and predicted values\"\"\"\n",
    "    return (1/2) * np.sum(np.square(prediction - actual))"
   ]
  },
  {
   "cell_type": "code",
   "execution_count": 354,
   "id": "da372936-bf0a-4cf0-b50d-6bf2262376c5",
   "metadata": {},
   "outputs": [
    {
     "data": {
      "text/plain": [
       "array([87,  4,  9, 29, 92, 24,  4, 31, 29, 71, 78, 80, 82,  5,  1, 72, 50,\n",
       "       56, 96, 37, 14, 12, 81, 34, 51, 19, 75,  4, 34], dtype=int64)"
      ]
     },
     "execution_count": 354,
     "metadata": {},
     "output_type": "execute_result"
    }
   ],
   "source": [
    "# Create dummy actual response data\n",
    "actual = np.int64(np.random.rand(10**5) * 100)\n",
    "actual[11:40]"
   ]
  },
  {
   "cell_type": "code",
   "execution_count": 355,
   "id": "5b919f14-5982-466f-ae15-282ded4b9761",
   "metadata": {},
   "outputs": [
    {
     "data": {
      "text/plain": [
       "array([ 0,  0, -2,  0,  0,  0,  0, -1, -2,  0,  0,  0,  0,  0,  0,  2,  1,\n",
       "       -2, -1,  4,  0, -1,  2, -1,  0,  1,  0,  1,  2], dtype=int64)"
      ]
     },
     "execution_count": 355,
     "metadata": {},
     "output_type": "execute_result"
    }
   ],
   "source": [
    "# Create randomly distributed noise data\n",
    "noise = np.int64(np.random.randn(10**5) * 1.5)\n",
    "noise[11:40]"
   ]
  },
  {
   "cell_type": "code",
   "execution_count": 356,
   "id": "dacddcda-a37b-4e60-884e-f6fc3f3b6659",
   "metadata": {},
   "outputs": [
    {
     "data": {
      "text/plain": [
       "array([87,  4,  7, 29, 92, 24,  4, 30, 27, 71, 78, 80, 82,  5,  1, 74, 51,\n",
       "       54, 95, 41, 14, 11, 83, 33, 51, 20, 75,  5, 36], dtype=int64)"
      ]
     },
     "execution_count": 356,
     "metadata": {},
     "output_type": "execute_result"
    }
   ],
   "source": [
    "# Create dummy prediction data by adding noise to the actual responses\n",
    "prediction = actual + noise \n",
    "prediction[11:40]"
   ]
  },
  {
   "cell_type": "code",
   "execution_count": 344,
   "id": "b01abf9a-4e61-41c8-a10c-0a9c95b7636b",
   "metadata": {},
   "outputs": [
    {
     "data": {
      "text/plain": [
       "66349.5"
      ]
     },
     "execution_count": 344,
     "metadata": {},
     "output_type": "execute_result"
    }
   ],
   "source": [
    "# Calculate MSE\n",
    "MSE(prediction, actual)"
   ]
  },
  {
   "cell_type": "code",
   "execution_count": 362,
   "id": "f24171d7-8cc2-4c4b-a925-79dc1659e174",
   "metadata": {},
   "outputs": [
    {
     "data": {
      "text/plain": [
       "array([  1,  -1, -10,   1, -10,  -5,  -2,  -2,   1,   7,  -3,   5,  -2,\n",
       "        -1,  -9,   1,  -9,  10, -10,  -7,  -2,   1,   2,   0,   7,  10,\n",
       "         1,   1,   0], dtype=int64)"
      ]
     },
     "execution_count": 362,
     "metadata": {},
     "output_type": "execute_result"
    }
   ],
   "source": [
    "# Create dummy prediction with more annoying noise\n",
    "another_noise = np.int64(np.random.randn(10**5) * 5.5) \n",
    "another_prediction = actual + another_noise\n",
    "\n",
    "another_noise[11:40]"
   ]
  },
  {
   "cell_type": "code",
   "execution_count": 363,
   "id": "55fde232-0fec-4a11-bec9-c8ad87c7237c",
   "metadata": {},
   "outputs": [
    {
     "data": {
      "text/plain": [
       "1329248.0"
      ]
     },
     "execution_count": 363,
     "metadata": {},
     "output_type": "execute_result"
    }
   ],
   "source": [
    "# Calculate new MSE\n",
    "MSE(another_prediction, actual) # it must have larger value"
   ]
  },
  {
   "cell_type": "markdown",
   "id": "53f927c9-044e-4d21-ad7f-ac52203e1124",
   "metadata": {},
   "source": [
    "## More Things to Do\n",
    "\n",
    "* [Universal Functions](https://numpy.org/doc/stable/user/basics.ufuncs.html) Official Documentation\n",
    "* Additional [exercises](https://aaltoscicomp.github.io/python-for-scicomp/numpy/) by Aalto Scientific Computing\n",
    "* [Real Python Tutorial](https://realpython.com/numpy-tutorial/) by Ryan Palo"
   ]
  },
  {
   "cell_type": "code",
   "execution_count": null,
   "id": "a84fb21b-e0ff-47a8-9c46-1afb28a02fc6",
   "metadata": {},
   "outputs": [],
   "source": []
  }
 ],
 "metadata": {
  "kernelspec": {
   "display_name": "Python [conda env:ai_engineering_course]",
   "language": "python",
   "name": "conda-env-ai_engineering_course-py"
  },
  "language_info": {
   "codemirror_mode": {
    "name": "ipython",
    "version": 3
   },
   "file_extension": ".py",
   "mimetype": "text/x-python",
   "name": "python",
   "nbconvert_exporter": "python",
   "pygments_lexer": "ipython3",
   "version": "3.7.6"
  }
 },
 "nbformat": 4,
 "nbformat_minor": 5
}
